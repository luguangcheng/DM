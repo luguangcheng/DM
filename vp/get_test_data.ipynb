{
 "cells": [
  {
   "cell_type": "code",
   "execution_count": null,
   "metadata": {
    "collapsed": true
   },
   "outputs": [],
   "source": [
    "#产生测试数据test_x\n",
    "def get_test_data(df, start_date, end_date):\n",
    "    df_X = df[(df['date'] >= start_date) & (df['date'] < end_date)]\n",
    "    df_Y = pd.read_csv('test_data.csv')\n",
    "    # X\n",
    "    X = pd.concat([df_X, df_Y]) # 对df_Y中重复的“用户-商品对”去重\n",
    "    X['date'].fillna(start_date-1,inplace=True)\n",
    "    X['action_type'].fillna(0,inplace=True)\n",
    "    #X = pd.merge(X, goods_train, how='left', on='spu_id')\n",
    "    #X = X.drop_duplicates(['us_id','spu_id']) \n",
    "    X = feature_extraction(X, start_date, end_date)\n",
    "    d = end_date-start_date+1\n",
    "    X.fillna({'us_first_action_date':d,'us_last_action_date':d,'spu_first_action_date':d,'spu_last_action_date':d,\n",
    "              'cat_last_action_date':d,'cat_first_action_date':d},inplace=True)\n",
    "    X.fillna(0,inplace = True)\n",
    "    print X.shape\n",
    "    X_test = pd.merge(df_Y,X,how='left',on=['us_id','spu_id','brand_id','cat_id'])\n",
    "    X_test.drop(['us_id','spu_id','brand_id','cat_id'],axis=1,inplace=True)\n",
    "    print X_test.shape\n",
    "    return X_test"
   ]
  },
  {
   "cell_type": "code",
   "execution_count": null,
   "metadata": {
    "collapsed": true
   },
   "outputs": [],
   "source": [
    "x_test = get_test_data(user_goods,77,84)"
   ]
  }
 ],
 "metadata": {
  "kernelspec": {
   "display_name": "Python 2",
   "language": "python",
   "name": "python2"
  },
  "language_info": {
   "codemirror_mode": {
    "name": "ipython",
    "version": 2
   },
   "file_extension": ".py",
   "mimetype": "text/x-python",
   "name": "python",
   "nbconvert_exporter": "python",
   "pygments_lexer": "ipython2",
   "version": "2.7.12"
  }
 },
 "nbformat": 4,
 "nbformat_minor": 1
}
