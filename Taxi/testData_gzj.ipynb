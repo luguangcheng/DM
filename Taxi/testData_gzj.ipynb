{
 "cells": [
  {
   "cell_type": "code",
   "execution_count": 2,
   "metadata": {
    "collapsed": false
   },
   "outputs": [
    {
     "name": "stdout",
     "output_type": "stream",
     "text": [
      "we have 625134 rows and 9 columns in test_data\n"
     ]
    }
   ],
   "source": [
    "import pandas as pd\n",
    "import numpy as np\n",
    "test_data = pd.read_csv('/home/guozijun/kaggle/Taxi Duration/data/test.csv')\n",
    "\n",
    "print 'we have {} rows and {} columns in test_data'.format(test_data.shape[0],test_data.shape[1])"
   ]
  },
  {
   "cell_type": "code",
   "execution_count": 3,
   "metadata": {
    "collapsed": true
   },
   "outputs": [],
   "source": [
    "from datetime import datetime\n",
    "test_data['pickup_time'] = test_data['pickup_datetime'].map(lambda x : datetime.strptime(x,'%Y-%m-%d %H:%M:%S'))\n",
    "test_data['pickup_datetime_month'] = test_data['pickup_time'].map(lambda x: x.month)\n",
    "test_data['pickup_datetime_weekday'] = test_data['pickup_time'].map(lambda x :x.weekday())\n",
    "test_data['pickup_datetime_hour'] = test_data['pickup_time'].map(lambda x : x.hour)\n"
   ]
  },
  {
   "cell_type": "code",
   "execution_count": 4,
   "metadata": {
    "collapsed": true
   },
   "outputs": [],
   "source": [
    "test_data['store_and_fwd_flag'] = test_data['store_and_fwd_flag'].map(lambda x:0 if x=='N'else 1)"
   ]
  },
  {
   "cell_type": "code",
   "execution_count": 5,
   "metadata": {
    "collapsed": true
   },
   "outputs": [],
   "source": [
    "inteval_pickup_longitude = [-121.93334198, -74.0026626587, -73.9942855835, -73.989982605, -73.985786438, -73.9817428589, -73.9772491455, -73.9713821411, -73.9623184204, -73.9518737793, -61.3355293274]\n",
    "inteval_pickup_latitude= [34.3596954346, 40.7201576233, 40.7322616577, 40.7413101196, 40.7484779358, 40.7541007996, 40.7596817017, 40.764755249, 40.772064209, 40.7804756165, 51.8810844421]\n",
    "inteval_dropoff_longitude = [-121.933303833, -74.0028610229, -73.9939575195, -73.9890441895, -73.9840927124, -73.9797515869, -73.9750366211, -73.9681091309, -73.9580688477, -73.9472198486, -61.3355293274] \n",
    "inteval_dropoff_latitude = [32.1811408997, 40.7153701782, 40.7299880981, 40.7407875061, 40.7485733032, 40.754524231, 40.7601890564, 40.7656936646, 40.7741775513, 40.7848815918, 43.9210281372] \n",
    "def test_cut(x,a):\n",
    "    if x<a[1]:\n",
    "        return 0.0\n",
    "    elif x<a[2]:\n",
    "        return 1.0\n",
    "    elif x<a[3]:\n",
    "        return 2.0\n",
    "    elif x<a[4]:\n",
    "        return 3.0\n",
    "    elif x<a[5]:\n",
    "        return 4.0\n",
    "    elif x<a[6]:\n",
    "        return 5.0\n",
    "    elif x<a[7]:\n",
    "        return 6.0\n",
    "    elif x<a[8]:\n",
    "        return 7.0\n",
    "    elif x<a[9]:\n",
    "        return 8.0\n",
    "    elif x< a[10]:\n",
    "        return 9.0"
   ]
  },
  {
   "cell_type": "code",
   "execution_count": 6,
   "metadata": {
    "collapsed": true
   },
   "outputs": [],
   "source": [
    "#将test数据按照train数据的qcut区间离散化\n",
    "test_data['pickup_longitude_qcut'] =test_data['pickup_longitude'].map(lambda x: test_cut(x,inteval_pickup_longitude))\n",
    "test_data['pickup_latitude_qcut'] =test_data['pickup_latitude'].map(lambda x: test_cut(x,inteval_pickup_latitude))\n",
    "test_data['dropoff_longitude_qcut'] =test_data['dropoff_longitude'].map(lambda x: test_cut(x,inteval_dropoff_longitude))\n",
    "test_data['dropoff_latitude_qcut'] =test_data['dropoff_latitude'].map(lambda x: test_cut(x,inteval_dropoff_latitude))"
   ]
  },
  {
   "cell_type": "code",
   "execution_count": 7,
   "metadata": {
    "collapsed": false
   },
   "outputs": [
    {
     "data": {
      "text/html": [
       "<div>\n",
       "<table border=\"1\" class=\"dataframe\">\n",
       "  <thead>\n",
       "    <tr style=\"text-align: right;\">\n",
       "      <th></th>\n",
       "      <th>id</th>\n",
       "      <th>vendor_id</th>\n",
       "      <th>pickup_datetime</th>\n",
       "      <th>passenger_count</th>\n",
       "      <th>pickup_longitude</th>\n",
       "      <th>pickup_latitude</th>\n",
       "      <th>dropoff_longitude</th>\n",
       "      <th>dropoff_latitude</th>\n",
       "      <th>store_and_fwd_flag</th>\n",
       "      <th>pickup_time</th>\n",
       "      <th>pickup_datetime_month</th>\n",
       "      <th>pickup_datetime_weekday</th>\n",
       "      <th>pickup_datetime_hour</th>\n",
       "      <th>pickup_longitude_qcut</th>\n",
       "      <th>pickup_latitude_qcut</th>\n",
       "      <th>dropoff_longitude_qcut</th>\n",
       "      <th>dropoff_latitude_qcut</th>\n",
       "    </tr>\n",
       "  </thead>\n",
       "  <tbody>\n",
       "    <tr>\n",
       "      <th>0</th>\n",
       "      <td>id3004672</td>\n",
       "      <td>1</td>\n",
       "      <td>2016-06-30 23:59:58</td>\n",
       "      <td>1</td>\n",
       "      <td>-73.988129</td>\n",
       "      <td>40.732029</td>\n",
       "      <td>-73.990173</td>\n",
       "      <td>40.756680</td>\n",
       "      <td>0</td>\n",
       "      <td>2016-06-30 23:59:58</td>\n",
       "      <td>6</td>\n",
       "      <td>3</td>\n",
       "      <td>23</td>\n",
       "      <td>3.0</td>\n",
       "      <td>1.0</td>\n",
       "      <td>2.0</td>\n",
       "      <td>5.0</td>\n",
       "    </tr>\n",
       "    <tr>\n",
       "      <th>1</th>\n",
       "      <td>id3505355</td>\n",
       "      <td>1</td>\n",
       "      <td>2016-06-30 23:59:53</td>\n",
       "      <td>1</td>\n",
       "      <td>-73.964203</td>\n",
       "      <td>40.679993</td>\n",
       "      <td>-73.959808</td>\n",
       "      <td>40.655403</td>\n",
       "      <td>0</td>\n",
       "      <td>2016-06-30 23:59:53</td>\n",
       "      <td>6</td>\n",
       "      <td>3</td>\n",
       "      <td>23</td>\n",
       "      <td>7.0</td>\n",
       "      <td>0.0</td>\n",
       "      <td>7.0</td>\n",
       "      <td>0.0</td>\n",
       "    </tr>\n",
       "    <tr>\n",
       "      <th>2</th>\n",
       "      <td>id1217141</td>\n",
       "      <td>1</td>\n",
       "      <td>2016-06-30 23:59:47</td>\n",
       "      <td>1</td>\n",
       "      <td>-73.997437</td>\n",
       "      <td>40.737583</td>\n",
       "      <td>-73.986160</td>\n",
       "      <td>40.729523</td>\n",
       "      <td>0</td>\n",
       "      <td>2016-06-30 23:59:47</td>\n",
       "      <td>6</td>\n",
       "      <td>3</td>\n",
       "      <td>23</td>\n",
       "      <td>1.0</td>\n",
       "      <td>2.0</td>\n",
       "      <td>3.0</td>\n",
       "      <td>1.0</td>\n",
       "    </tr>\n",
       "    <tr>\n",
       "      <th>3</th>\n",
       "      <td>id2150126</td>\n",
       "      <td>2</td>\n",
       "      <td>2016-06-30 23:59:41</td>\n",
       "      <td>1</td>\n",
       "      <td>-73.956070</td>\n",
       "      <td>40.771900</td>\n",
       "      <td>-73.986427</td>\n",
       "      <td>40.730469</td>\n",
       "      <td>0</td>\n",
       "      <td>2016-06-30 23:59:41</td>\n",
       "      <td>6</td>\n",
       "      <td>3</td>\n",
       "      <td>23</td>\n",
       "      <td>8.0</td>\n",
       "      <td>7.0</td>\n",
       "      <td>3.0</td>\n",
       "      <td>2.0</td>\n",
       "    </tr>\n",
       "    <tr>\n",
       "      <th>4</th>\n",
       "      <td>id1598245</td>\n",
       "      <td>1</td>\n",
       "      <td>2016-06-30 23:59:33</td>\n",
       "      <td>1</td>\n",
       "      <td>-73.970215</td>\n",
       "      <td>40.761475</td>\n",
       "      <td>-73.961510</td>\n",
       "      <td>40.755890</td>\n",
       "      <td>0</td>\n",
       "      <td>2016-06-30 23:59:33</td>\n",
       "      <td>6</td>\n",
       "      <td>3</td>\n",
       "      <td>23</td>\n",
       "      <td>7.0</td>\n",
       "      <td>6.0</td>\n",
       "      <td>7.0</td>\n",
       "      <td>5.0</td>\n",
       "    </tr>\n",
       "  </tbody>\n",
       "</table>\n",
       "</div>"
      ],
      "text/plain": [
       "          id  vendor_id      pickup_datetime  passenger_count  \\\n",
       "0  id3004672          1  2016-06-30 23:59:58                1   \n",
       "1  id3505355          1  2016-06-30 23:59:53                1   \n",
       "2  id1217141          1  2016-06-30 23:59:47                1   \n",
       "3  id2150126          2  2016-06-30 23:59:41                1   \n",
       "4  id1598245          1  2016-06-30 23:59:33                1   \n",
       "\n",
       "   pickup_longitude  pickup_latitude  dropoff_longitude  dropoff_latitude  \\\n",
       "0        -73.988129        40.732029         -73.990173         40.756680   \n",
       "1        -73.964203        40.679993         -73.959808         40.655403   \n",
       "2        -73.997437        40.737583         -73.986160         40.729523   \n",
       "3        -73.956070        40.771900         -73.986427         40.730469   \n",
       "4        -73.970215        40.761475         -73.961510         40.755890   \n",
       "\n",
       "   store_and_fwd_flag         pickup_time  pickup_datetime_month  \\\n",
       "0                   0 2016-06-30 23:59:58                      6   \n",
       "1                   0 2016-06-30 23:59:53                      6   \n",
       "2                   0 2016-06-30 23:59:47                      6   \n",
       "3                   0 2016-06-30 23:59:41                      6   \n",
       "4                   0 2016-06-30 23:59:33                      6   \n",
       "\n",
       "   pickup_datetime_weekday  pickup_datetime_hour  pickup_longitude_qcut  \\\n",
       "0                        3                    23                    3.0   \n",
       "1                        3                    23                    7.0   \n",
       "2                        3                    23                    1.0   \n",
       "3                        3                    23                    8.0   \n",
       "4                        3                    23                    7.0   \n",
       "\n",
       "   pickup_latitude_qcut  dropoff_longitude_qcut  dropoff_latitude_qcut  \n",
       "0                   1.0                     2.0                    5.0  \n",
       "1                   0.0                     7.0                    0.0  \n",
       "2                   2.0                     3.0                    1.0  \n",
       "3                   7.0                     3.0                    2.0  \n",
       "4                   6.0                     7.0                    5.0  "
      ]
     },
     "execution_count": 7,
     "metadata": {},
     "output_type": "execute_result"
    }
   ],
   "source": [
    "test_data.head()"
   ]
  },
  {
   "cell_type": "code",
   "execution_count": 8,
   "metadata": {
    "collapsed": true
   },
   "outputs": [],
   "source": [
    "#基于出现数量的排序特征\n",
    "def sort_feature(df,s):\n",
    "    s_counts = df[s].value_counts()\n",
    "    s_dict = dict(zip(list(s_counts.index.values), range(1,len(s_counts)+1)))\n",
    "    df[s+'_sort'] = df[s].map(s_dict)\n",
    "    return df"
   ]
  },
  {
   "cell_type": "code",
   "execution_count": null,
   "metadata": {
    "collapsed": true
   },
   "outputs": [],
   "source": [
    "#根据不同时间段用车次数排序\n",
    "train_data = sort_feature(train_data,'pickup_time_month')\n",
    "train_data = sort_feature(train_data,'pickup_time_weekday')\n",
    "train_data = sort_feature(train_data,'pickup_time_hour')"
   ]
  }
 ],
 "metadata": {
  "kernelspec": {
   "display_name": "Python 2",
   "language": "python",
   "name": "python2"
  },
  "language_info": {
   "codemirror_mode": {
    "name": "ipython",
    "version": 2
   },
   "file_extension": ".py",
   "mimetype": "text/x-python",
   "name": "python",
   "nbconvert_exporter": "python",
   "pygments_lexer": "ipython2",
   "version": "2.7.12"
  }
 },
 "nbformat": 4,
 "nbformat_minor": 1
}
