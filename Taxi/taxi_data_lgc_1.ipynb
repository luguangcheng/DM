{
 "cells": [
  {
   "cell_type": "code",
   "execution_count": 1,
   "metadata": {
    "collapsed": true
   },
   "outputs": [],
   "source": [
    "import pandas as pd\n",
    "import numpy as np"
   ]
  },
  {
   "cell_type": "code",
   "execution_count": 2,
   "metadata": {
    "collapsed": true
   },
   "outputs": [],
   "source": [
    "train_data = pd.read_csv('/home/guozijun/kaggle/Taxi Duration/data/train.csv')\n",
    "test_data = pd.read_csv('/home/guozijun/kaggle/Taxi Duration/data/test.csv')"
   ]
  },
  {
   "cell_type": "code",
   "execution_count": 3,
   "metadata": {
    "collapsed": true
   },
   "outputs": [],
   "source": [
    "from datetime import datetime\n",
    "train_data['pickup_time'] = train_data['pickup_datetime'].map(lambda x: datetime.strptime(x, '%Y-%m-%d %H:%M:%S'))\n",
    "train_data['pickup_time_month'] = train_data['pickup_time'].map(lambda x: x.month)\n",
    "train_data['pickup_time_weekday'] = train_data['pickup_time'].map(lambda x: x.weekday())\n",
    "train_data['pickup_time_hour'] = train_data['pickup_time'].map(lambda x: x.hour)"
   ]
  },
  {
   "cell_type": "code",
   "execution_count": 4,
   "metadata": {
    "collapsed": true
   },
   "outputs": [],
   "source": [
    "train_data['store_and_fwd_flag'] = train_data['store_and_fwd_flag'].map(lambda x: 0 if x=='N' else 1)"
   ]
  },
  {
   "cell_type": "code",
   "execution_count": 5,
   "metadata": {
    "collapsed": true
   },
   "outputs": [],
   "source": [
    "#基于出现数量排序的函数\n",
    "def sort_feature(df,s):\n",
    "    s_counts = df[s].value_counts()\n",
    "    s_dict = dict(zip(list(s_counts.index.values), range(1,len(s_counts)+1)))\n",
    "    df[s+'_sort'] = df[s].map(s_dict)\n",
    "    return df"
   ]
  },
  {
   "cell_type": "code",
   "execution_count": 6,
   "metadata": {
    "collapsed": true
   },
   "outputs": [],
   "source": [
    "#根据不同时间段用车次数排序\n",
    "train_data = sort_feature(train_data,'pickup_time_month')\n",
    "train_data = sort_feature(train_data,'pickup_time_weekday')\n",
    "train_data = sort_feature(train_data,'pickup_time_hour')"
   ]
  },
  {
   "cell_type": "code",
   "execution_count": 7,
   "metadata": {
    "collapsed": false
   },
   "outputs": [
    {
     "data": {
      "text/html": [
       "<div>\n",
       "<table border=\"1\" class=\"dataframe\">\n",
       "  <thead>\n",
       "    <tr style=\"text-align: right;\">\n",
       "      <th></th>\n",
       "      <th>id</th>\n",
       "      <th>vendor_id</th>\n",
       "      <th>pickup_datetime</th>\n",
       "      <th>dropoff_datetime</th>\n",
       "      <th>passenger_count</th>\n",
       "      <th>pickup_longitude</th>\n",
       "      <th>pickup_latitude</th>\n",
       "      <th>dropoff_longitude</th>\n",
       "      <th>dropoff_latitude</th>\n",
       "      <th>store_and_fwd_flag</th>\n",
       "      <th>...</th>\n",
       "      <th>pickup_time_month</th>\n",
       "      <th>pickup_time_weekday</th>\n",
       "      <th>pickup_time_hour</th>\n",
       "      <th>pickup_time_month_sort</th>\n",
       "      <th>pickup_time_weekday_sort</th>\n",
       "      <th>pickup_time_hour_sort</th>\n",
       "      <th>pickup_longitude_qcut</th>\n",
       "      <th>dropoff_longitude_qcut</th>\n",
       "      <th>dropoff_latitude_qcut</th>\n",
       "      <th>pickup_latitude_qcut</th>\n",
       "    </tr>\n",
       "  </thead>\n",
       "  <tbody>\n",
       "    <tr>\n",
       "      <th>0</th>\n",
       "      <td>id2875421</td>\n",
       "      <td>2</td>\n",
       "      <td>2016-03-14 17:24:55</td>\n",
       "      <td>2016-03-14 17:32:30</td>\n",
       "      <td>1</td>\n",
       "      <td>-73.982155</td>\n",
       "      <td>40.767937</td>\n",
       "      <td>-73.964630</td>\n",
       "      <td>40.765602</td>\n",
       "      <td>0</td>\n",
       "      <td>...</td>\n",
       "      <td>3</td>\n",
       "      <td>0</td>\n",
       "      <td>17</td>\n",
       "      <td>1</td>\n",
       "      <td>7</td>\n",
       "      <td>6</td>\n",
       "      <td>4</td>\n",
       "      <td>7</td>\n",
       "      <td>6</td>\n",
       "      <td>7</td>\n",
       "    </tr>\n",
       "    <tr>\n",
       "      <th>1</th>\n",
       "      <td>id2377394</td>\n",
       "      <td>1</td>\n",
       "      <td>2016-06-12 00:43:35</td>\n",
       "      <td>2016-06-12 00:54:38</td>\n",
       "      <td>1</td>\n",
       "      <td>-73.980415</td>\n",
       "      <td>40.738564</td>\n",
       "      <td>-73.999481</td>\n",
       "      <td>40.731152</td>\n",
       "      <td>0</td>\n",
       "      <td>...</td>\n",
       "      <td>6</td>\n",
       "      <td>6</td>\n",
       "      <td>0</td>\n",
       "      <td>5</td>\n",
       "      <td>6</td>\n",
       "      <td>18</td>\n",
       "      <td>5</td>\n",
       "      <td>1</td>\n",
       "      <td>2</td>\n",
       "      <td>2</td>\n",
       "    </tr>\n",
       "    <tr>\n",
       "      <th>2</th>\n",
       "      <td>id3858529</td>\n",
       "      <td>2</td>\n",
       "      <td>2016-01-19 11:35:24</td>\n",
       "      <td>2016-01-19 12:10:48</td>\n",
       "      <td>1</td>\n",
       "      <td>-73.979027</td>\n",
       "      <td>40.763939</td>\n",
       "      <td>-74.005333</td>\n",
       "      <td>40.710087</td>\n",
       "      <td>0</td>\n",
       "      <td>...</td>\n",
       "      <td>1</td>\n",
       "      <td>1</td>\n",
       "      <td>11</td>\n",
       "      <td>6</td>\n",
       "      <td>5</td>\n",
       "      <td>12</td>\n",
       "      <td>5</td>\n",
       "      <td>0</td>\n",
       "      <td>0</td>\n",
       "      <td>6</td>\n",
       "    </tr>\n",
       "    <tr>\n",
       "      <th>3</th>\n",
       "      <td>id3504673</td>\n",
       "      <td>2</td>\n",
       "      <td>2016-04-06 19:32:31</td>\n",
       "      <td>2016-04-06 19:39:40</td>\n",
       "      <td>1</td>\n",
       "      <td>-74.010040</td>\n",
       "      <td>40.719971</td>\n",
       "      <td>-74.012268</td>\n",
       "      <td>40.706718</td>\n",
       "      <td>0</td>\n",
       "      <td>...</td>\n",
       "      <td>4</td>\n",
       "      <td>2</td>\n",
       "      <td>19</td>\n",
       "      <td>2</td>\n",
       "      <td>4</td>\n",
       "      <td>2</td>\n",
       "      <td>0</td>\n",
       "      <td>0</td>\n",
       "      <td>0</td>\n",
       "      <td>0</td>\n",
       "    </tr>\n",
       "    <tr>\n",
       "      <th>4</th>\n",
       "      <td>id2181028</td>\n",
       "      <td>2</td>\n",
       "      <td>2016-03-26 13:30:55</td>\n",
       "      <td>2016-03-26 13:38:10</td>\n",
       "      <td>1</td>\n",
       "      <td>-73.973053</td>\n",
       "      <td>40.793209</td>\n",
       "      <td>-73.972923</td>\n",
       "      <td>40.782520</td>\n",
       "      <td>0</td>\n",
       "      <td>...</td>\n",
       "      <td>3</td>\n",
       "      <td>5</td>\n",
       "      <td>13</td>\n",
       "      <td>1</td>\n",
       "      <td>2</td>\n",
       "      <td>10</td>\n",
       "      <td>6</td>\n",
       "      <td>6</td>\n",
       "      <td>8</td>\n",
       "      <td>9</td>\n",
       "    </tr>\n",
       "  </tbody>\n",
       "</table>\n",
       "<p>5 rows × 22 columns</p>\n",
       "</div>"
      ],
      "text/plain": [
       "          id  vendor_id      pickup_datetime     dropoff_datetime  \\\n",
       "0  id2875421          2  2016-03-14 17:24:55  2016-03-14 17:32:30   \n",
       "1  id2377394          1  2016-06-12 00:43:35  2016-06-12 00:54:38   \n",
       "2  id3858529          2  2016-01-19 11:35:24  2016-01-19 12:10:48   \n",
       "3  id3504673          2  2016-04-06 19:32:31  2016-04-06 19:39:40   \n",
       "4  id2181028          2  2016-03-26 13:30:55  2016-03-26 13:38:10   \n",
       "\n",
       "   passenger_count  pickup_longitude  pickup_latitude  dropoff_longitude  \\\n",
       "0                1        -73.982155        40.767937         -73.964630   \n",
       "1                1        -73.980415        40.738564         -73.999481   \n",
       "2                1        -73.979027        40.763939         -74.005333   \n",
       "3                1        -74.010040        40.719971         -74.012268   \n",
       "4                1        -73.973053        40.793209         -73.972923   \n",
       "\n",
       "   dropoff_latitude  store_and_fwd_flag         ...           \\\n",
       "0         40.765602                   0         ...            \n",
       "1         40.731152                   0         ...            \n",
       "2         40.710087                   0         ...            \n",
       "3         40.706718                   0         ...            \n",
       "4         40.782520                   0         ...            \n",
       "\n",
       "   pickup_time_month pickup_time_weekday  pickup_time_hour  \\\n",
       "0                  3                   0                17   \n",
       "1                  6                   6                 0   \n",
       "2                  1                   1                11   \n",
       "3                  4                   2                19   \n",
       "4                  3                   5                13   \n",
       "\n",
       "   pickup_time_month_sort  pickup_time_weekday_sort  pickup_time_hour_sort  \\\n",
       "0                       1                         7                      6   \n",
       "1                       5                         6                     18   \n",
       "2                       6                         5                     12   \n",
       "3                       2                         4                      2   \n",
       "4                       1                         2                     10   \n",
       "\n",
       "   pickup_longitude_qcut  dropoff_longitude_qcut dropoff_latitude_qcut  \\\n",
       "0                      4                       7                     6   \n",
       "1                      5                       1                     2   \n",
       "2                      5                       0                     0   \n",
       "3                      0                       0                     0   \n",
       "4                      6                       6                     8   \n",
       "\n",
       "  pickup_latitude_qcut  \n",
       "0                    7  \n",
       "1                    2  \n",
       "2                    6  \n",
       "3                    0  \n",
       "4                    9  \n",
       "\n",
       "[5 rows x 22 columns]"
      ]
     },
     "execution_count": 7,
     "metadata": {},
     "output_type": "execute_result"
    }
   ],
   "source": [
    "#经纬度离散化\n",
    "n=10\n",
    "train_data['pickup_longitude_qcut'] = pd.qcut(train_data['pickup_longitude'],n,labels=range(n))\n",
    "train_data['dropoff_longitude_qcut'] = pd.qcut(train_data['dropoff_longitude'],n,labels=range(n))\n",
    "train_data['dropoff_latitude_qcut'] = pd.qcut(train_data['dropoff_latitude'],n,labels=range(n))\n",
    "train_data['pickup_latitude_qcut'] = pd.qcut(train_data['pickup_latitude'],n,labels=range(n))\n",
    "train_data.head()"
   ]
  },
  {
   "cell_type": "code",
   "execution_count": 10,
   "metadata": {
    "collapsed": true
   },
   "outputs": [
    {
     "data": {
      "text/plain": [
       "pickup_time_month\n",
       "6    1013.367226\n",
       "5     999.450555\n",
       "4     962.891462\n",
       "3     937.365363\n",
       "1     922.373319\n",
       "2     920.830453\n",
       "Name: trip_duration, dtype: float64"
      ]
     },
     "execution_count": 10,
     "metadata": {},
     "output_type": "execute_result"
    }
   ],
   "source": [
    "train_data['trip_duration'].groupby(train_data['pickup_time_month']).mean().sort_values(ascending=False)"
   ]
  },
  {
   "cell_type": "code",
   "execution_count": 7,
   "metadata": {
    "collapsed": false
   },
   "outputs": [],
   "source": [
    "#根据不同时间用车时长大小排序\n",
    "month_count = train_data['trip_duration'].groupby(train_data['pickup_time_month']).mean().sort_values(ascending=False)\n",
    "month_dict = dict(zip(list(month_count.index.values), range(1,len(month_count)+1)))\n",
    "train_data['month_sort'] = train_data['pickup_time_month'].map(month_dict)\n",
    "week_count = train_data['trip_duration'].groupby(train_data['pickup_time_weekday']).mean().sort_values(ascending=False)\n",
    "week_dict = dict(zip(list(week_count.index.values), range(1,len(week_count)+1)))\n",
    "train_data['week_sort'] = train_data['pickup_time_weekday'].map(week_dict)\n",
    "hour_count = train_data['trip_duration'].groupby(train_data['pickup_time_hour']).mean().sort_values(ascending=False)\n",
    "hour_dict = dict(zip(list(hour_count.index.values), range(1,len(hour_count)+1)))\n",
    "train_data['hour_sort'] = train_data['pickup_time_hour'].map(hour_dict)"
   ]
  },
  {
   "cell_type": "code",
   "execution_count": 9,
   "metadata": {
    "collapsed": false,
    "scrolled": false
   },
   "outputs": [
    {
     "data": {
      "text/html": [
       "<div>\n",
       "<table border=\"1\" class=\"dataframe\">\n",
       "  <thead>\n",
       "    <tr style=\"text-align: right;\">\n",
       "      <th></th>\n",
       "      <th>id</th>\n",
       "      <th>vendor_id</th>\n",
       "      <th>pickup_datetime</th>\n",
       "      <th>dropoff_datetime</th>\n",
       "      <th>passenger_count</th>\n",
       "      <th>pickup_longitude</th>\n",
       "      <th>pickup_latitude</th>\n",
       "      <th>dropoff_longitude</th>\n",
       "      <th>dropoff_latitude</th>\n",
       "      <th>store_and_fwd_flag</th>\n",
       "      <th>...</th>\n",
       "      <th>pickup_time_month_sort</th>\n",
       "      <th>pickup_time_weekday_sort</th>\n",
       "      <th>pickup_time_hour_sort</th>\n",
       "      <th>pickup_longitude_qcut</th>\n",
       "      <th>dropoff_longitude_qcut</th>\n",
       "      <th>dropoff_latitude_qcut</th>\n",
       "      <th>pickup_latitude_qcut</th>\n",
       "      <th>month_sort</th>\n",
       "      <th>week_sort</th>\n",
       "      <th>hour_sort</th>\n",
       "    </tr>\n",
       "  </thead>\n",
       "  <tbody>\n",
       "    <tr>\n",
       "      <th>0</th>\n",
       "      <td>id2875421</td>\n",
       "      <td>2</td>\n",
       "      <td>2016-03-14 17:24:55</td>\n",
       "      <td>2016-03-14 17:32:30</td>\n",
       "      <td>1</td>\n",
       "      <td>-73.982155</td>\n",
       "      <td>40.767937</td>\n",
       "      <td>-73.964630</td>\n",
       "      <td>40.765602</td>\n",
       "      <td>0</td>\n",
       "      <td>...</td>\n",
       "      <td>1</td>\n",
       "      <td>7</td>\n",
       "      <td>6</td>\n",
       "      <td>4</td>\n",
       "      <td>7</td>\n",
       "      <td>6</td>\n",
       "      <td>7</td>\n",
       "      <td>4</td>\n",
       "      <td>7</td>\n",
       "      <td>5</td>\n",
       "    </tr>\n",
       "    <tr>\n",
       "      <th>1</th>\n",
       "      <td>id2377394</td>\n",
       "      <td>1</td>\n",
       "      <td>2016-06-12 00:43:35</td>\n",
       "      <td>2016-06-12 00:54:38</td>\n",
       "      <td>1</td>\n",
       "      <td>-73.980415</td>\n",
       "      <td>40.738564</td>\n",
       "      <td>-73.999481</td>\n",
       "      <td>40.731152</td>\n",
       "      <td>0</td>\n",
       "      <td>...</td>\n",
       "      <td>5</td>\n",
       "      <td>6</td>\n",
       "      <td>18</td>\n",
       "      <td>5</td>\n",
       "      <td>1</td>\n",
       "      <td>2</td>\n",
       "      <td>2</td>\n",
       "      <td>1</td>\n",
       "      <td>6</td>\n",
       "      <td>10</td>\n",
       "    </tr>\n",
       "    <tr>\n",
       "      <th>2</th>\n",
       "      <td>id3858529</td>\n",
       "      <td>2</td>\n",
       "      <td>2016-01-19 11:35:24</td>\n",
       "      <td>2016-01-19 12:10:48</td>\n",
       "      <td>1</td>\n",
       "      <td>-73.979027</td>\n",
       "      <td>40.763939</td>\n",
       "      <td>-74.005333</td>\n",
       "      <td>40.710087</td>\n",
       "      <td>0</td>\n",
       "      <td>...</td>\n",
       "      <td>6</td>\n",
       "      <td>5</td>\n",
       "      <td>12</td>\n",
       "      <td>5</td>\n",
       "      <td>0</td>\n",
       "      <td>0</td>\n",
       "      <td>6</td>\n",
       "      <td>5</td>\n",
       "      <td>3</td>\n",
       "      <td>9</td>\n",
       "    </tr>\n",
       "    <tr>\n",
       "      <th>3</th>\n",
       "      <td>id3504673</td>\n",
       "      <td>2</td>\n",
       "      <td>2016-04-06 19:32:31</td>\n",
       "      <td>2016-04-06 19:39:40</td>\n",
       "      <td>1</td>\n",
       "      <td>-74.010040</td>\n",
       "      <td>40.719971</td>\n",
       "      <td>-74.012268</td>\n",
       "      <td>40.706718</td>\n",
       "      <td>0</td>\n",
       "      <td>...</td>\n",
       "      <td>2</td>\n",
       "      <td>4</td>\n",
       "      <td>2</td>\n",
       "      <td>0</td>\n",
       "      <td>0</td>\n",
       "      <td>0</td>\n",
       "      <td>0</td>\n",
       "      <td>3</td>\n",
       "      <td>4</td>\n",
       "      <td>17</td>\n",
       "    </tr>\n",
       "    <tr>\n",
       "      <th>4</th>\n",
       "      <td>id2181028</td>\n",
       "      <td>2</td>\n",
       "      <td>2016-03-26 13:30:55</td>\n",
       "      <td>2016-03-26 13:38:10</td>\n",
       "      <td>1</td>\n",
       "      <td>-73.973053</td>\n",
       "      <td>40.793209</td>\n",
       "      <td>-73.972923</td>\n",
       "      <td>40.782520</td>\n",
       "      <td>0</td>\n",
       "      <td>...</td>\n",
       "      <td>1</td>\n",
       "      <td>2</td>\n",
       "      <td>10</td>\n",
       "      <td>6</td>\n",
       "      <td>6</td>\n",
       "      <td>8</td>\n",
       "      <td>9</td>\n",
       "      <td>4</td>\n",
       "      <td>5</td>\n",
       "      <td>4</td>\n",
       "    </tr>\n",
       "  </tbody>\n",
       "</table>\n",
       "<p>5 rows × 25 columns</p>\n",
       "</div>"
      ],
      "text/plain": [
       "          id  vendor_id      pickup_datetime     dropoff_datetime  \\\n",
       "0  id2875421          2  2016-03-14 17:24:55  2016-03-14 17:32:30   \n",
       "1  id2377394          1  2016-06-12 00:43:35  2016-06-12 00:54:38   \n",
       "2  id3858529          2  2016-01-19 11:35:24  2016-01-19 12:10:48   \n",
       "3  id3504673          2  2016-04-06 19:32:31  2016-04-06 19:39:40   \n",
       "4  id2181028          2  2016-03-26 13:30:55  2016-03-26 13:38:10   \n",
       "\n",
       "   passenger_count  pickup_longitude  pickup_latitude  dropoff_longitude  \\\n",
       "0                1        -73.982155        40.767937         -73.964630   \n",
       "1                1        -73.980415        40.738564         -73.999481   \n",
       "2                1        -73.979027        40.763939         -74.005333   \n",
       "3                1        -74.010040        40.719971         -74.012268   \n",
       "4                1        -73.973053        40.793209         -73.972923   \n",
       "\n",
       "   dropoff_latitude  store_and_fwd_flag    ...      pickup_time_month_sort  \\\n",
       "0         40.765602                   0    ...                           1   \n",
       "1         40.731152                   0    ...                           5   \n",
       "2         40.710087                   0    ...                           6   \n",
       "3         40.706718                   0    ...                           2   \n",
       "4         40.782520                   0    ...                           1   \n",
       "\n",
       "  pickup_time_weekday_sort  pickup_time_hour_sort  pickup_longitude_qcut  \\\n",
       "0                        7                      6                      4   \n",
       "1                        6                     18                      5   \n",
       "2                        5                     12                      5   \n",
       "3                        4                      2                      0   \n",
       "4                        2                     10                      6   \n",
       "\n",
       "   dropoff_longitude_qcut  dropoff_latitude_qcut  pickup_latitude_qcut  \\\n",
       "0                       7                      6                     7   \n",
       "1                       1                      2                     2   \n",
       "2                       0                      0                     6   \n",
       "3                       0                      0                     0   \n",
       "4                       6                      8                     9   \n",
       "\n",
       "   month_sort  week_sort  hour_sort  \n",
       "0           4          7          5  \n",
       "1           1          6         10  \n",
       "2           5          3          9  \n",
       "3           3          4         17  \n",
       "4           4          5          4  \n",
       "\n",
       "[5 rows x 25 columns]"
      ]
     },
     "execution_count": 9,
     "metadata": {},
     "output_type": "execute_result"
    }
   ],
   "source": [
    "train_data.head()"
   ]
  },
  {
   "cell_type": "code",
   "execution_count": 3,
   "metadata": {
    "collapsed": true
   },
   "outputs": [],
   "source": [
    "def Lon_Lat_distance(lon1,lat1,lon2,lat2):\n",
    "    deltaLon = np.abs(lon1 - lon2)\n",
    "    deltaLat = np.abs(lat1 - lat2)\n",
    "    EARTH_RADIUS = 6371\n",
    "    disLon,disLat = map(lambda x:np.pi*x*EARTH_RADIUS/180,(deltaLon,deltaLat))\n",
    "    return disLon, disLat\n",
    "\n",
    "def calcu_distance(lon1,lat1,lon2,lat2):\n",
    "    disLon,disLat = Lon_Lat_distance(lon1,lat1,lon2,lat2)\n",
    "    mht_distance = disLon + disLat\n",
    "    line_distance = np.sqrt(disLon**2 + disLat**2)\n",
    "    return mht_distance, line_distance"
   ]
  },
  {
   "cell_type": "code",
   "execution_count": null,
   "metadata": {
    "collapsed": true
   },
   "outputs": [],
   "source": [
    "# 两种距离特征（+2）\n",
    "train_data['mht_distance'],train_data['line_distance'] = calcu_distance(train_data['pickup_longitude'],train_data['pickup_latitude'],\n",
    "                                                                  train_data['dropoff_longitude'],train_data['dropoff_latitude'])"
   ]
  },
  {
   "cell_type": "code",
   "execution_count": null,
   "metadata": {
    "collapsed": true
   },
   "outputs": [],
   "source": [
    "train_data['mht_speed'] = 1000 * train_data['mht_distance'] / train_data['trip_duration']\n",
    "train_data['line_speed'] = 1000 * train_data['line_distance'] / train_data['trip_duration']"
   ]
  },
  {
   "cell_type": "code",
   "execution_count": null,
   "metadata": {
    "collapsed": true
   },
   "outputs": [],
   "source": [
    "mht_region_speed = train_data.groupby(['pickup_longitude_qcut','pickup_latitude_qcut',\n",
    "                                                     'dropoff_longitude_qcut','dropoff_latitude_qcut'],as_index=False)['mht_speed'].mean()\n",
    "mht_region_speed.rename(columns={'mht_speed':'mht_region_speed'},inplace=True)\n",
    "mht_region_speed_m = train_data.groupby(['pickup_month','pickup_longitude_qcut','pickup_latitude_qcut',\n",
    "                                                       'dropoff_longitude_qcut','dropoff_latitude_qcut'],as_index=False)['mht_speed'].mean()\n",
    "mht_region_speed_m.rename(columns={'mht_speed':'mht_region_speed_m'},inplace=True)\n",
    "mht_region_speed_w = train_data.groupby(['pickup_weekday','pickup_longitude_qcut','pickup_latitude_qcut',\n",
    "                                                       'dropoff_longitude_qcut','dropoff_latitude_qcut'],as_index=False)['mht_speed'].mean()\n",
    "mht_region_speed_w.rename(columns={'mht_speed':'mht_region_speed_w'},inplace=True)\n",
    "mht_region_speed_h = train_data.groupby(['pickup_hour','pickup_longitude_qcut','pickup_latitude_qcut',\n",
    "                                                       'dropoff_longitude_qcut','dropoff_latitude_qcut'],as_index=False)['mht_speed'].mean()\n",
    "mht_region_speed_h.rename(columns={'mht_speed':'mht_region_speed_h'},inplace=True)\n",
    "\n",
    "line_region_speed = train_data.groupby(['pickup_longitude_qcut','pickup_latitude_qcut',\n",
    "                                                      'dropoff_longitude_qcut','dropoff_latitude_qcut'],as_index=False)['line_speed'].mean()\n",
    "line_region_speed.rename(columns={'line_speed':'line_region_speed'},inplace=True)\n",
    "line_region_speed_m = train_data.groupby(['pickup_month','pickup_longitude_qcut','pickup_latitude_qcut',\n",
    "                                                       'dropoff_longitude_qcut','dropoff_latitude_qcut'],as_index=False)['line_speed'].mean()\n",
    "line_region_speed_m.rename(columns={'line_speed':'line_region_speed_m'},inplace=True)\n",
    "line_region_speed_w = train_data.groupby(['pickup_weekday','pickup_longitude_qcut','pickup_latitude_qcut',\n",
    "                                                       'dropoff_longitude_qcut','dropoff_latitude_qcut'],as_index=False)['line_speed'].mean()\n",
    "line_region_speed_w.rename(columns={'line_speed':'line_region_speed_w'},inplace=True)\n",
    "line_region_speed_h = train_data.groupby(['pickup_hour','pickup_longitude_qcut','pickup_latitude_qcut',\n",
    "                                                       'dropoff_longitude_qcut','dropoff_latitude_qcut'],as_index=False)['line_speed'].mean()\n",
    "line_region_speed_h.rename(columns={'line_speed':'line_region_speed_h'},inplace=True)"
   ]
  },
  {
   "cell_type": "code",
   "execution_count": null,
   "metadata": {
    "collapsed": true
   },
   "outputs": [],
   "source": [
    "train_data = pd.merge(train_data, mht_region_speed, how='left', on = ['pickup_longitude_qcut','pickup_latitude_qcut',\n",
    "                                                     'dropoff_longitude_qcut','dropoff_latitude_qcut'])\n",
    "train_data = pd.merge(train_data, mht_region_speed_m, how='left', on = ['pickup_month','pickup_longitude_qcut','pickup_latitude_qcut',\n",
    "                                                       'dropoff_longitude_qcut','dropoff_latitude_qcut'])\n",
    "train_data = pd.merge(train_data, mht_region_speed_w, how='left', on = ['pickup_weekday','pickup_longitude_qcut','pickup_latitude_qcut',\n",
    "                                                       'dropoff_longitude_qcut','dropoff_latitude_qcut'])\n",
    "train_data = pd.merge(train_data, mht_region_speed_h, how='left', on = ['pickup_hour','pickup_longitude_qcut','pickup_latitude_qcut',\n",
    "                                                       'dropoff_longitude_qcut','dropoff_latitude_qcut'])\n",
    "\n",
    "train_data = pd.merge(train_data, line_region_speed, how='left', on = ['pickup_longitude_qcut','pickup_latitude_qcut',\n",
    "                                                     'dropoff_longitude_qcut','dropoff_latitude_qcut'])\n",
    "train_data = pd.merge(train_data, line_region_speed_m, how='left', on = ['pickup_month','pickup_longitude_qcut','pickup_latitude_qcut',\n",
    "                                                       'dropoff_longitude_qcut','dropoff_latitude_qcut'])\n",
    "train_data = pd.merge(train_data, line_region_speed_w, how='left', on = ['pickup_weekday','pickup_longitude_qcut','pickup_latitude_qcut',\n",
    "                                                       'dropoff_longitude_qcut','dropoff_latitude_qcut'])\n",
    "train_data = pd.merge(train_data, line_region_speed_h, how='left', on = ['pickup_hour','pickup_longitude_qcut','pickup_latitude_qcut',\n",
    "                                                       'dropoff_longitude_qcut','dropoff_latitude_qcut'])"
   ]
  },
  {
   "cell_type": "code",
   "execution_count": null,
   "metadata": {
    "collapsed": true
   },
   "outputs": [],
   "source": [
    "mht_speed_m = train_data.groupby(['pickup_month'],as_index=False)['mht_speed'].mean()\n",
    "mht_speed_m.rename(columns={'mht_speed':'mht_speed_m'},inplace=True)\n",
    "mht_speed_w = train_data.groupby(['pickup_weekday'],as_index=False)['mht_speed'].mean()\n",
    "mht_speed_w.rename(columns={'mht_speed':'mht_speed_w'},inplace=True)\n",
    "mht_speed_h = train_data.groupby(['pickup_hour'],as_index=False)['mht_speed'].mean()\n",
    "mht_speed_h.rename(columns={'mht_speed':'mht_speed_h'},inplace=True)\n",
    "\n",
    "line_speed_m = train_data.groupby(['pickup_month'],as_index=False)['line_speed'].mean()\n",
    "line_speed_m.rename(columns={'line_speed':'line_speed_m'},inplace=True)\n",
    "line_speed_w = train_data.groupby(['pickup_weekday'],as_index=False)['line_speed'].mean()\n",
    "line_speed_w.rename(columns={'line_speed':'line_speed_w'},inplace=True)\n",
    "line_speed_h = train_data.groupby(['pickup_hour'],as_index=False)['line_speed'].mean()\n",
    "line_speed_h.rename(columns={'line_speed':'line_speed_h'},inplace=True)"
   ]
  },
  {
   "cell_type": "code",
   "execution_count": null,
   "metadata": {
    "collapsed": true
   },
   "outputs": [],
   "source": [
    "train_data = pd.merge(train_data, mht_speed_m, how='left', on = ['pickup_month'])\n",
    "train_data = pd.merge(train_data, mht_speed_w, how='left', on = ['pickup_weekday'])\n",
    "train_data = pd.merge(train_data, mht_speed_h, how='left', on = ['pickup_hour'])\n",
    "\n",
    "train_data = pd.merge(train_data, line_speed_m, how='left', on = ['pickup_month'])\n",
    "train_data = pd.merge(train_data, line_speed_w, how='left', on = ['pickup_weekday'])\n",
    "train_data = pd.merge(train_data, line_speed_h, how='left', on = ['pickup_hour'])"
   ]
  },
  {
   "cell_type": "code",
   "execution_count": null,
   "metadata": {
    "collapsed": true
   },
   "outputs": [],
   "source": [
    "train_data['longitude_delta'] = train_data['dropoff_longitude'] - train_data['pickup_longitude']\n",
    "train_data['latitude_delta'] = train_data['dropoff_latitude'] - train_data['pickup_latitude']\n",
    "train_data['longitude_dct'] = (train_data.longitude_delta > 0)*1\n",
    "train_data['latitude_dct'] = (train_data.latitude_delta > 0)*1"
   ]
  },
  {
   "cell_type": "code",
   "execution_count": null,
   "metadata": {
    "collapsed": true
   },
   "outputs": [],
   "source": [
    "# 月平均出行时长，日平均出行时长，周平均出行时长\n",
    "trip_duration_m = train_data.groupby(['pickup_month'],as_index=False)['trip_duration'].mean()\n",
    "trip_duration_m.rename(columns={'trip_duration':'trip_duration_m'},inplace=True)\n",
    "trip_duration_w = train_data.groupby(['pickup_weekday'],as_index=False)['trip_duration'].mean()\n",
    "trip_duration_w.rename(columns={'trip_duration':'trip_duration_w'},inplace=True)\n",
    "trip_duration_h = train_data.groupby(['pickup_hour'],as_index=False)['trip_duration'].mean()\n",
    "trip_duration_h.rename(columns={'trip_duration':'trip_duration_h'},inplace=True)"
   ]
  },
  {
   "cell_type": "code",
   "execution_count": null,
   "metadata": {
    "collapsed": true
   },
   "outputs": [],
   "source": [
    "train_data = pd.merge(train_data, trip_duration_m, how='left', on = ['pickup_month'])\n",
    "train_data = pd.merge(train_data, trip_duration_w, how='left', on = ['pickup_weekday'])\n",
    "train_data = pd.merge(train_data, trip_duration_h, how='left', on = ['pickup_hour'])"
   ]
  },
  {
   "cell_type": "code",
   "execution_count": 11,
   "metadata": {
    "collapsed": true
   },
   "outputs": [],
   "source": [
    "train_data.to_csv('train_data_lgc_1.csv',index=False)"
   ]
  },
  {
   "cell_type": "code",
   "execution_count": 2,
   "metadata": {
    "collapsed": true
   },
   "outputs": [],
   "source": [
    "train_data = pd.read_csv('train_data_lgc_1.csv')"
   ]
  }
 ],
 "metadata": {
  "kernelspec": {
   "display_name": "Python 2",
   "language": "python",
   "name": "python2"
  },
  "language_info": {
   "codemirror_mode": {
    "name": "ipython",
    "version": 2
   },
   "file_extension": ".py",
   "mimetype": "text/x-python",
   "name": "python",
   "nbconvert_exporter": "python",
   "pygments_lexer": "ipython2",
   "version": "2.7.12"
  }
 },
 "nbformat": 4,
 "nbformat_minor": 1
}
