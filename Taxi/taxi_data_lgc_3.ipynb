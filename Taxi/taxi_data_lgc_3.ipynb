{
 "cells": [
  {
   "cell_type": "code",
   "execution_count": 1,
   "metadata": {
    "collapsed": true
   },
   "outputs": [],
   "source": [
    "import pandas as pd\n",
    "import numpy as np"
   ]
  },
  {
   "cell_type": "code",
   "execution_count": 2,
   "metadata": {
    "collapsed": true
   },
   "outputs": [],
   "source": [
    "train_data = pd.read_csv('/home/guozijun/kaggle/Taxi Duration/data/train.csv')\n",
    "test_data = pd.read_csv('/home/guozijun/kaggle/Taxi Duration/data/test.csv')"
   ]
  },
  {
   "cell_type": "code",
   "execution_count": 3,
   "metadata": {
    "collapsed": true
   },
   "outputs": [],
   "source": [
    "train_data['store_and_fwd_flag'] = train_data['store_and_fwd_flag'].map(lambda x: 0 if x=='N' else 1)\n",
    "test_data['store_and_fwd_flag'] = test_data['store_and_fwd_flag'].map(lambda x: 0 if x=='N' else 1)"
   ]
  },
  {
   "cell_type": "code",
   "execution_count": 4,
   "metadata": {
    "collapsed": true
   },
   "outputs": [],
   "source": [
    "#时间特征\n",
    "from datetime import datetime\n",
    "train_data['pickup_datetime'] = train_data['pickup_datetime'].map(lambda x: datetime.strptime(x, '%Y-%m-%d %H:%M:%S'))\n",
    "train_data['pickup_month'] = train_data['pickup_datetime'].map(lambda x: x.month)\n",
    "train_data['pickup_weekday'] = train_data['pickup_datetime'].map(lambda x: x.weekday())\n",
    "train_data['pickup_hour'] = train_data['pickup_datetime'].map(lambda x: x.hour)\n",
    "\n",
    "test_data['pickup_datetime'] = test_data['pickup_datetime'].map(lambda x: datetime.strptime(x, '%Y-%m-%d %H:%M:%S'))\n",
    "test_data['pickup_month'] = test_data['pickup_datetime'].map(lambda x: x.month)\n",
    "test_data['pickup_weekday'] = test_data['pickup_datetime'].map(lambda x: x.weekday())\n",
    "test_data['pickup_hour'] = test_data['pickup_datetime'].map(lambda x: x.hour)"
   ]
  },
  {
   "cell_type": "code",
   "execution_count": 5,
   "metadata": {
    "collapsed": true
   },
   "outputs": [],
   "source": [
    "#对聚合之后的特征排序\n",
    "def sort_groupby(df):\n",
    "    s = df[[len(df.columns)-1]].columns.values[0]\n",
    "    df = df.sort_values(by=s,ascending=False)\n",
    "    df[s+'_sort'] = range(1,len(df)+1)\n",
    "    return df\n"
   ]
  },
  {
   "cell_type": "code",
   "execution_count": 6,
   "metadata": {
    "collapsed": false
   },
   "outputs": [],
   "source": [
    "#时间特征\n",
    "# pickup_month_number\n",
    "# pickup_weekday_number\n",
    "# pickup_hour_number\n",
    "# pickup_weekhour_number\n",
    "train_data['pickup_number'] = 1 # 后续删除\n",
    "pickup_month_number = train_data.groupby(['pickup_month'],as_index=False)['pickup_number'].sum()\n",
    "pickup_month_number.rename(columns={'pickup_number':'pickup_month_number'},inplace=True)\n",
    "pickup_weekday_number = train_data.groupby(['pickup_weekday'],as_index=False)['pickup_number'].sum()\n",
    "pickup_weekday_number.rename(columns={'pickup_number':'pickup_weekday_number'},inplace=True)\n",
    "pickup_hour_number = train_data.groupby(['pickup_hour'],as_index=False)['pickup_number'].sum()\n",
    "pickup_hour_number.rename(columns={'pickup_number':'pickup_hour_number'},inplace=True)\n",
    "pickup_weekhour_number = train_data.groupby(['pickup_weekday','pickup_hour'],as_index=False)['pickup_number'].sum()\n",
    "pickup_weekhour_number.rename(columns={'pickup_number':'pickup_weekhour_number'},inplace=True)\n",
    "\n",
    "pickup_month_number = sort_groupby(pickup_month_number)\n",
    "pickup_weekday_number = sort_groupby(pickup_weekday_number)\n",
    "pickup_hour_number = sort_groupby(pickup_hour_number)\n",
    "pickup_weekhour_number = sort_groupby(pickup_weekhour_number)\n",
    "\n",
    "train_data = pd.merge(train_data, pickup_month_number, how='left', on = ['pickup_month'])\n",
    "train_data = pd.merge(train_data, pickup_weekday_number, how='left', on = ['pickup_weekday'])\n",
    "train_data = pd.merge(train_data, pickup_hour_number, how='left', on = ['pickup_hour'])\n",
    "train_data = pd.merge(train_data, pickup_weekhour_number, how='left', on = ['pickup_weekday','pickup_hour'])\n",
    "\n",
    "test_data = pd.merge(test_data, pickup_month_number, how='left', on = ['pickup_month'])\n",
    "test_data = pd.merge(test_data, pickup_weekday_number, how='left', on = ['pickup_weekday'])\n",
    "test_data = pd.merge(test_data, pickup_hour_number, how='left', on = ['pickup_hour'])\n",
    "test_data = pd.merge(test_data, pickup_weekhour_number, how='left', on = ['pickup_weekday','pickup_hour'])\n"
   ]
  },
  {
   "cell_type": "code",
   "execution_count": 7,
   "metadata": {
    "collapsed": true
   },
   "outputs": [],
   "source": [
    "#时间特征\n",
    "# 月平均出行时长，日平均出行时长，周平均出行时长\n",
    "trip_duration_m = train_data.groupby(['pickup_month'],as_index=False)['trip_duration'].mean()\n",
    "trip_duration_m.rename(columns={'trip_duration':'trip_duration_m'},inplace=True)\n",
    "trip_duration_w = train_data.groupby(['pickup_weekday'],as_index=False)['trip_duration'].mean()\n",
    "trip_duration_w.rename(columns={'trip_duration':'trip_duration_w'},inplace=True)\n",
    "trip_duration_h = train_data.groupby(['pickup_hour'],as_index=False)['trip_duration'].mean()\n",
    "trip_duration_h.rename(columns={'trip_duration':'trip_duration_h'},inplace=True)\n",
    "trip_duration_wh = train_data.groupby(['pickup_weekday','pickup_hour'],as_index=False)['trip_duration'].mean()\n",
    "trip_duration_wh.rename(columns={'trip_duration':'trip_duration_wh'},inplace=True)"
   ]
  },
  {
   "cell_type": "code",
   "execution_count": 8,
   "metadata": {
    "collapsed": false
   },
   "outputs": [],
   "source": [
    "trip_duration_m = sort_groupby(trip_duration_m)\n",
    "trip_duration_w = sort_groupby(trip_duration_w)\n",
    "trip_duration_h = sort_groupby(trip_duration_h)\n",
    "trip_duration_wh = sort_groupby(trip_duration_wh)"
   ]
  },
  {
   "cell_type": "code",
   "execution_count": 9,
   "metadata": {
    "collapsed": true
   },
   "outputs": [],
   "source": [
    "train_data = pd.merge(train_data, trip_duration_m, how='left', on = ['pickup_month'])\n",
    "train_data = pd.merge(train_data, trip_duration_w, how='left', on = ['pickup_weekday'])\n",
    "train_data = pd.merge(train_data, trip_duration_h, how='left', on = ['pickup_hour'])\n",
    "train_data = pd.merge(train_data, trip_duration_wh, how='left', on = ['pickup_weekday','pickup_hour'])\n",
    "\n",
    "test_data = pd.merge(test_data, trip_duration_m, how='left', on = ['pickup_month'])\n",
    "test_data = pd.merge(test_data, trip_duration_w, how='left', on = ['pickup_weekday'])\n",
    "test_data = pd.merge(test_data, trip_duration_h, how='left', on = ['pickup_hour'])\n",
    "test_data = pd.merge(test_data, trip_duration_wh, how='left', on = ['pickup_weekday','pickup_hour'])"
   ]
  },
  {
   "cell_type": "code",
   "execution_count": 10,
   "metadata": {
    "collapsed": false
   },
   "outputs": [
    {
     "data": {
      "text/html": [
       "<div>\n",
       "<table border=\"1\" class=\"dataframe\">\n",
       "  <thead>\n",
       "    <tr style=\"text-align: right;\">\n",
       "      <th></th>\n",
       "      <th>id</th>\n",
       "      <th>vendor_id</th>\n",
       "      <th>pickup_datetime</th>\n",
       "      <th>dropoff_datetime</th>\n",
       "      <th>passenger_count</th>\n",
       "      <th>pickup_longitude</th>\n",
       "      <th>pickup_latitude</th>\n",
       "      <th>dropoff_longitude</th>\n",
       "      <th>dropoff_latitude</th>\n",
       "      <th>store_and_fwd_flag</th>\n",
       "      <th>...</th>\n",
       "      <th>trip_duration_w</th>\n",
       "      <th>trip_duration_w_sort</th>\n",
       "      <th>trip_duration_h</th>\n",
       "      <th>trip_duration_h_sort</th>\n",
       "      <th>trip_duration_wh</th>\n",
       "      <th>trip_duration_wh_sort</th>\n",
       "      <th>pickup_longitude_qcut</th>\n",
       "      <th>dropoff_longitude_qcut</th>\n",
       "      <th>dropoff_latitude_qcut</th>\n",
       "      <th>pickup_latitude_qcut</th>\n",
       "    </tr>\n",
       "  </thead>\n",
       "  <tbody>\n",
       "    <tr>\n",
       "      <th>0</th>\n",
       "      <td>id2875421</td>\n",
       "      <td>2</td>\n",
       "      <td>2016-03-14 17:24:55</td>\n",
       "      <td>2016-03-14 17:32:30</td>\n",
       "      <td>1</td>\n",
       "      <td>-73.982155</td>\n",
       "      <td>40.767937</td>\n",
       "      <td>-73.964630</td>\n",
       "      <td>40.765602</td>\n",
       "      <td>0</td>\n",
       "      <td>...</td>\n",
       "      <td>897.947839</td>\n",
       "      <td>7</td>\n",
       "      <td>1030.581619</td>\n",
       "      <td>5</td>\n",
       "      <td>970.433177</td>\n",
       "      <td>64</td>\n",
       "      <td>4</td>\n",
       "      <td>7</td>\n",
       "      <td>6</td>\n",
       "      <td>7</td>\n",
       "    </tr>\n",
       "    <tr>\n",
       "      <th>1</th>\n",
       "      <td>id2377394</td>\n",
       "      <td>1</td>\n",
       "      <td>2016-06-12 00:43:35</td>\n",
       "      <td>2016-06-12 00:54:38</td>\n",
       "      <td>1</td>\n",
       "      <td>-73.980415</td>\n",
       "      <td>40.738564</td>\n",
       "      <td>-73.999481</td>\n",
       "      <td>40.731152</td>\n",
       "      <td>0</td>\n",
       "      <td>...</td>\n",
       "      <td>901.639395</td>\n",
       "      <td>6</td>\n",
       "      <td>936.657302</td>\n",
       "      <td>10</td>\n",
       "      <td>913.323961</td>\n",
       "      <td>100</td>\n",
       "      <td>5</td>\n",
       "      <td>1</td>\n",
       "      <td>2</td>\n",
       "      <td>2</td>\n",
       "    </tr>\n",
       "    <tr>\n",
       "      <th>2</th>\n",
       "      <td>id3858529</td>\n",
       "      <td>2</td>\n",
       "      <td>2016-01-19 11:35:24</td>\n",
       "      <td>2016-01-19 12:10:48</td>\n",
       "      <td>1</td>\n",
       "      <td>-73.979027</td>\n",
       "      <td>40.763939</td>\n",
       "      <td>-74.005333</td>\n",
       "      <td>40.710087</td>\n",
       "      <td>0</td>\n",
       "      <td>...</td>\n",
       "      <td>983.463124</td>\n",
       "      <td>3</td>\n",
       "      <td>966.430282</td>\n",
       "      <td>9</td>\n",
       "      <td>1055.057076</td>\n",
       "      <td>31</td>\n",
       "      <td>5</td>\n",
       "      <td>0</td>\n",
       "      <td>0</td>\n",
       "      <td>6</td>\n",
       "    </tr>\n",
       "    <tr>\n",
       "      <th>3</th>\n",
       "      <td>id3504673</td>\n",
       "      <td>2</td>\n",
       "      <td>2016-04-06 19:32:31</td>\n",
       "      <td>2016-04-06 19:39:40</td>\n",
       "      <td>1</td>\n",
       "      <td>-74.010040</td>\n",
       "      <td>40.719971</td>\n",
       "      <td>-74.012268</td>\n",
       "      <td>40.706718</td>\n",
       "      <td>0</td>\n",
       "      <td>...</td>\n",
       "      <td>975.450494</td>\n",
       "      <td>4</td>\n",
       "      <td>894.356679</td>\n",
       "      <td>17</td>\n",
       "      <td>859.145184</td>\n",
       "      <td>118</td>\n",
       "      <td>0</td>\n",
       "      <td>0</td>\n",
       "      <td>0</td>\n",
       "      <td>0</td>\n",
       "    </tr>\n",
       "    <tr>\n",
       "      <th>4</th>\n",
       "      <td>id2181028</td>\n",
       "      <td>2</td>\n",
       "      <td>2016-03-26 13:30:55</td>\n",
       "      <td>2016-03-26 13:38:10</td>\n",
       "      <td>1</td>\n",
       "      <td>-73.973053</td>\n",
       "      <td>40.793209</td>\n",
       "      <td>-73.972923</td>\n",
       "      <td>40.782520</td>\n",
       "      <td>0</td>\n",
       "      <td>...</td>\n",
       "      <td>948.051175</td>\n",
       "      <td>5</td>\n",
       "      <td>1032.246359</td>\n",
       "      <td>4</td>\n",
       "      <td>936.744342</td>\n",
       "      <td>82</td>\n",
       "      <td>6</td>\n",
       "      <td>6</td>\n",
       "      <td>8</td>\n",
       "      <td>9</td>\n",
       "    </tr>\n",
       "  </tbody>\n",
       "</table>\n",
       "<p>5 rows × 35 columns</p>\n",
       "</div>"
      ],
      "text/plain": [
       "          id  vendor_id     pickup_datetime     dropoff_datetime  \\\n",
       "0  id2875421          2 2016-03-14 17:24:55  2016-03-14 17:32:30   \n",
       "1  id2377394          1 2016-06-12 00:43:35  2016-06-12 00:54:38   \n",
       "2  id3858529          2 2016-01-19 11:35:24  2016-01-19 12:10:48   \n",
       "3  id3504673          2 2016-04-06 19:32:31  2016-04-06 19:39:40   \n",
       "4  id2181028          2 2016-03-26 13:30:55  2016-03-26 13:38:10   \n",
       "\n",
       "   passenger_count  pickup_longitude  pickup_latitude  dropoff_longitude  \\\n",
       "0                1        -73.982155        40.767937         -73.964630   \n",
       "1                1        -73.980415        40.738564         -73.999481   \n",
       "2                1        -73.979027        40.763939         -74.005333   \n",
       "3                1        -74.010040        40.719971         -74.012268   \n",
       "4                1        -73.973053        40.793209         -73.972923   \n",
       "\n",
       "   dropoff_latitude  store_and_fwd_flag          ...           \\\n",
       "0         40.765602                   0          ...            \n",
       "1         40.731152                   0          ...            \n",
       "2         40.710087                   0          ...            \n",
       "3         40.706718                   0          ...            \n",
       "4         40.782520                   0          ...            \n",
       "\n",
       "   trip_duration_w  trip_duration_w_sort  trip_duration_h  \\\n",
       "0       897.947839                     7      1030.581619   \n",
       "1       901.639395                     6       936.657302   \n",
       "2       983.463124                     3       966.430282   \n",
       "3       975.450494                     4       894.356679   \n",
       "4       948.051175                     5      1032.246359   \n",
       "\n",
       "   trip_duration_h_sort  trip_duration_wh  trip_duration_wh_sort  \\\n",
       "0                     5        970.433177                     64   \n",
       "1                    10        913.323961                    100   \n",
       "2                     9       1055.057076                     31   \n",
       "3                    17        859.145184                    118   \n",
       "4                     4        936.744342                     82   \n",
       "\n",
       "   pickup_longitude_qcut  dropoff_longitude_qcut  dropoff_latitude_qcut  \\\n",
       "0                      4                       7                      6   \n",
       "1                      5                       1                      2   \n",
       "2                      5                       0                      0   \n",
       "3                      0                       0                      0   \n",
       "4                      6                       6                      8   \n",
       "\n",
       "   pickup_latitude_qcut  \n",
       "0                     7  \n",
       "1                     2  \n",
       "2                     6  \n",
       "3                     0  \n",
       "4                     9  \n",
       "\n",
       "[5 rows x 35 columns]"
      ]
     },
     "execution_count": 10,
     "metadata": {},
     "output_type": "execute_result"
    }
   ],
   "source": [
    "#地理特征\n",
    "#经纬度离散化（合理？）\n",
    "n=10\n",
    "train_data['pickup_longitude_qcut'] = pd.qcut(train_data['pickup_longitude'],n,labels=range(n))\n",
    "train_data['dropoff_longitude_qcut'] = pd.qcut(train_data['dropoff_longitude'],n,labels=range(n))\n",
    "train_data['dropoff_latitude_qcut'] = pd.qcut(train_data['dropoff_latitude'],n,labels=range(n))\n",
    "train_data['pickup_latitude_qcut'] = pd.qcut(train_data['pickup_latitude'],n,labels=range(n))\n",
    "train_data.head()"
   ]
  },
  {
   "cell_type": "code",
   "execution_count": 11,
   "metadata": {
    "collapsed": true
   },
   "outputs": [],
   "source": [
    "#地理特征\n",
    "#经纬度离散化（合理？）\n",
    "def test_cut(x,a):\n",
    "    if x<a[1]:\n",
    "        return 0.0\n",
    "    elif x<a[2]:\n",
    "        return 1.0\n",
    "    elif x<a[3]:\n",
    "        return 2.0\n",
    "    elif x<a[4]:\n",
    "        return 3.0\n",
    "    elif x<a[5]:\n",
    "        return 4.0\n",
    "    elif x<a[6]:\n",
    "        return 5.0\n",
    "    elif x<a[7]:\n",
    "        return 6.0\n",
    "    elif x<a[8]:\n",
    "        return 7.0\n",
    "    elif x<a[9]:\n",
    "        return 8.0\n",
    "    elif x< a[10]:\n",
    "        return 9.0"
   ]
  },
  {
   "cell_type": "code",
   "execution_count": 12,
   "metadata": {
    "collapsed": true
   },
   "outputs": [],
   "source": [
    "#地理特征\n",
    "#经纬度离散化（合理？）\n",
    "inteval_pickup_longitude = [-121.93334198, -74.0026626587, -73.9942855835, -73.989982605, -73.985786438, -73.9817428589, -73.9772491455, -73.9713821411, -73.9623184204, -73.9518737793, -61.3355293274]\n",
    "inteval_pickup_latitude= [34.3596954346, 40.7201576233, 40.7322616577, 40.7413101196, 40.7484779358, 40.7541007996, 40.7596817017, 40.764755249, 40.772064209, 40.7804756165, 51.8810844421]\n",
    "inteval_dropoff_longitude = [-121.933303833, -74.0028610229, -73.9939575195, -73.9890441895, -73.9840927124, -73.9797515869, -73.9750366211, -73.9681091309, -73.9580688477, -73.9472198486, -61.3355293274] \n",
    "inteval_dropoff_latitude = [32.1811408997, 40.7153701782, 40.7299880981, 40.7407875061, 40.7485733032, 40.754524231, 40.7601890564, 40.7656936646, 40.7741775513, 40.7848815918, 43.9210281372] \n",
    "test_data['pickup_longitude_qcut'] = test_data['pickup_longitude'].map(lambda x:test_cut(x,inteval_pickup_longitude))\n",
    "test_data['dropoff_longitude_qcut'] = test_data['dropoff_longitude'].map(lambda x:test_cut(x,inteval_dropoff_longitude))\n",
    "test_data['dropoff_latitude_qcut'] = test_data['dropoff_latitude'].map(lambda x:test_cut(x,inteval_dropoff_latitude))\n",
    "test_data['pickup_latitude_qcut'] = test_data['pickup_latitude'].map(lambda x:test_cut(x,inteval_pickup_latitude))"
   ]
  },
  {
   "cell_type": "code",
   "execution_count": 13,
   "metadata": {
    "collapsed": true
   },
   "outputs": [],
   "source": [
    "#地理特征\n",
    "#距离特征\n",
    "def Lon_Lat_distance(lon1,lat1,lon2,lat2):\n",
    "    deltaLon = np.abs(lon1 - lon2)\n",
    "    deltaLat = np.abs(lat1 - lat2)\n",
    "    EARTH_RADIUS = 6371\n",
    "    disLon,disLat = map(lambda x:np.pi*x*EARTH_RADIUS/180,(deltaLon,deltaLat))\n",
    "    return disLon, disLat\n",
    "\n",
    "def calcu_distance(lon1,lat1,lon2,lat2):\n",
    "    disLon,disLat = Lon_Lat_distance(lon1,lat1,lon2,lat2)\n",
    "    mht_distance = disLon + disLat\n",
    "    line_distance = np.sqrt(disLon**2 + disLat**2)\n",
    "    return mht_distance, line_distance"
   ]
  },
  {
   "cell_type": "code",
   "execution_count": 14,
   "metadata": {
    "collapsed": true
   },
   "outputs": [],
   "source": [
    "#地理特征\n",
    "# 两种距离特征（+2）\n",
    "train_data['mht_distance'],train_data['line_distance'] = calcu_distance(train_data['pickup_longitude'],train_data['pickup_latitude'],\n",
    "                                                                  train_data['dropoff_longitude'],train_data['dropoff_latitude'])\n",
    "test_data['mht_distance'],test_data['line_distance'] = calcu_distance(test_data['pickup_longitude'],test_data['pickup_latitude'],\n",
    "                                                                  test_data['dropoff_longitude'],test_data['dropoff_latitude'])"
   ]
  },
  {
   "cell_type": "code",
   "execution_count": 15,
   "metadata": {
    "collapsed": false,
    "scrolled": true
   },
   "outputs": [
    {
     "data": {
      "text/plain": [
       "array(['id', 'vendor_id', 'pickup_datetime', 'dropoff_datetime',\n",
       "       'passenger_count', 'pickup_longitude', 'pickup_latitude',\n",
       "       'dropoff_longitude', 'dropoff_latitude', 'store_and_fwd_flag',\n",
       "       'trip_duration', 'pickup_month', 'pickup_weekday', 'pickup_hour',\n",
       "       'pickup_number', 'pickup_month_number', 'pickup_month_number_sort',\n",
       "       'pickup_weekday_number', 'pickup_weekday_number_sort',\n",
       "       'pickup_hour_number', 'pickup_hour_number_sort',\n",
       "       'pickup_weekhour_number', 'pickup_weekhour_number_sort',\n",
       "       'trip_duration_m', 'trip_duration_m_sort', 'trip_duration_w',\n",
       "       'trip_duration_w_sort', 'trip_duration_h', 'trip_duration_h_sort',\n",
       "       'trip_duration_wh', 'trip_duration_wh_sort',\n",
       "       'pickup_longitude_qcut', 'dropoff_longitude_qcut',\n",
       "       'dropoff_latitude_qcut', 'pickup_latitude_qcut', 'mht_distance',\n",
       "       'line_distance'], dtype=object)"
      ]
     },
     "execution_count": 15,
     "metadata": {},
     "output_type": "execute_result"
    }
   ],
   "source": [
    "train_data.columns.values"
   ]
  },
  {
   "cell_type": "code",
   "execution_count": 16,
   "metadata": {
    "collapsed": false
   },
   "outputs": [],
   "source": [
    "#地理特征\n",
    "#不同区域的平均用车时长及排序\n",
    "region_trip_duration =train_data.groupby(['pickup_longitude_qcut','pickup_latitude_qcut',\n",
    "                                                     'dropoff_longitude_qcut','dropoff_latitude_qcut'],as_index=False)['trip_duration'].mean()\n",
    "region_trip_duration.rename(columns={'trip_duration':'region_trip_duration'},inplace=True)\n",
    "region_trip_duration_m = train_data.groupby(['pickup_month','pickup_longitude_qcut','pickup_latitude_qcut',\n",
    "                                                       'dropoff_longitude_qcut','dropoff_latitude_qcut'],as_index=False)['trip_duration'].mean()\n",
    "region_trip_duration_m.rename(columns={'trip_duration':'region_trip_duration_m'},inplace=True)\n",
    "region_trip_duration_w = train_data.groupby(['pickup_weekday','pickup_longitude_qcut','pickup_latitude_qcut',\n",
    "                                                       'dropoff_longitude_qcut','dropoff_latitude_qcut'],as_index=False)['trip_duration'].mean()\n",
    "region_trip_duration_w.rename(columns={'trip_duration':'region_trip_duration_w'},inplace=True)\n",
    "region_trip_duration_h = train_data.groupby(['pickup_hour','pickup_longitude_qcut','pickup_latitude_qcut',\n",
    "                                                       'dropoff_longitude_qcut','dropoff_latitude_qcut'],as_index=False)['trip_duration'].mean()\n",
    "region_trip_duration_h.rename(columns={'trip_duration':'region_trip_duration_h'},inplace=True)\n",
    "region_trip_duration_wh = train_data.groupby(['pickup_weekday','pickup_hour','pickup_longitude_qcut','pickup_latitude_qcut',\n",
    "                                                       'dropoff_longitude_qcut','dropoff_latitude_qcut'],as_index=False)['trip_duration'].mean()\n",
    "region_trip_duration_wh.rename(columns={'trip_duration':'region_trip_duration_wh'},inplace=True)\n",
    "\n",
    "\n",
    "region_trip_duration = sort_groupby(region_trip_duration)\n",
    "region_trip_duration_m = sort_groupby(region_trip_duration_m)\n",
    "region_trip_duration_w = sort_groupby(region_trip_duration_w)\n",
    "region_trip_duration_h = sort_groupby(region_trip_duration_h)\n",
    "region_trip_duration_wh = sort_groupby(region_trip_duration_wh)\n",
    "\n",
    "\n",
    "\n",
    "\n"
   ]
  },
  {
   "cell_type": "code",
   "execution_count": 17,
   "metadata": {
    "collapsed": false
   },
   "outputs": [
    {
     "ename": "KeyError",
     "evalue": "'pickup_weekday'",
     "output_type": "error",
     "traceback": [
      "\u001b[0;31m---------------------------------------------------------------------------\u001b[0m",
      "\u001b[0;31mKeyError\u001b[0m                                  Traceback (most recent call last)",
      "\u001b[0;32m<ipython-input-17-bcd822ad01e0>\u001b[0m in \u001b[0;36m<module>\u001b[0;34m()\u001b[0m\n\u001b[1;32m      8\u001b[0m                                                      'dropoff_longitude_qcut','dropoff_latitude_qcut'])\n\u001b[1;32m      9\u001b[0m train_data = pd.merge(train_data, region_trip_duration_wh, how='left', on = ['pickup_weekday','pickup_hour','pickup_longitude_qcut','pickup_latitude_qcut',\n\u001b[0;32m---> 10\u001b[0;31m                                                      'dropoff_longitude_qcut','dropoff_latitude_qcut'])\n\u001b[0m",
      "\u001b[0;32m/usr/local/lib/python2.7/dist-packages/pandas/tools/merge.pyc\u001b[0m in \u001b[0;36mmerge\u001b[0;34m(left, right, how, on, left_on, right_on, left_index, right_index, sort, suffixes, copy, indicator)\u001b[0m\n\u001b[1;32m     56\u001b[0m                          \u001b[0mright_on\u001b[0m\u001b[0;34m=\u001b[0m\u001b[0mright_on\u001b[0m\u001b[0;34m,\u001b[0m \u001b[0mleft_index\u001b[0m\u001b[0;34m=\u001b[0m\u001b[0mleft_index\u001b[0m\u001b[0;34m,\u001b[0m\u001b[0;34m\u001b[0m\u001b[0m\n\u001b[1;32m     57\u001b[0m                          \u001b[0mright_index\u001b[0m\u001b[0;34m=\u001b[0m\u001b[0mright_index\u001b[0m\u001b[0;34m,\u001b[0m \u001b[0msort\u001b[0m\u001b[0;34m=\u001b[0m\u001b[0msort\u001b[0m\u001b[0;34m,\u001b[0m \u001b[0msuffixes\u001b[0m\u001b[0;34m=\u001b[0m\u001b[0msuffixes\u001b[0m\u001b[0;34m,\u001b[0m\u001b[0;34m\u001b[0m\u001b[0m\n\u001b[0;32m---> 58\u001b[0;31m                          copy=copy, indicator=indicator)\n\u001b[0m\u001b[1;32m     59\u001b[0m     \u001b[0;32mreturn\u001b[0m \u001b[0mop\u001b[0m\u001b[0;34m.\u001b[0m\u001b[0mget_result\u001b[0m\u001b[0;34m(\u001b[0m\u001b[0;34m)\u001b[0m\u001b[0;34m\u001b[0m\u001b[0m\n\u001b[1;32m     60\u001b[0m \u001b[0;32mif\u001b[0m \u001b[0m__debug__\u001b[0m\u001b[0;34m:\u001b[0m\u001b[0;34m\u001b[0m\u001b[0m\n",
      "\u001b[0;32m/usr/local/lib/python2.7/dist-packages/pandas/tools/merge.pyc\u001b[0m in \u001b[0;36m__init__\u001b[0;34m(self, left, right, how, on, left_on, right_on, axis, left_index, right_index, sort, suffixes, copy, indicator)\u001b[0m\n\u001b[1;32m    485\u001b[0m         (self.left_join_keys,\n\u001b[1;32m    486\u001b[0m          \u001b[0mself\u001b[0m\u001b[0;34m.\u001b[0m\u001b[0mright_join_keys\u001b[0m\u001b[0;34m,\u001b[0m\u001b[0;34m\u001b[0m\u001b[0m\n\u001b[0;32m--> 487\u001b[0;31m          self.join_names) = self._get_merge_keys()\n\u001b[0m\u001b[1;32m    488\u001b[0m \u001b[0;34m\u001b[0m\u001b[0m\n\u001b[1;32m    489\u001b[0m     \u001b[0;32mdef\u001b[0m \u001b[0mget_result\u001b[0m\u001b[0;34m(\u001b[0m\u001b[0mself\u001b[0m\u001b[0;34m)\u001b[0m\u001b[0;34m:\u001b[0m\u001b[0;34m\u001b[0m\u001b[0m\n",
      "\u001b[0;32m/usr/local/lib/python2.7/dist-packages/pandas/tools/merge.pyc\u001b[0m in \u001b[0;36m_get_merge_keys\u001b[0;34m(self)\u001b[0m\n\u001b[1;32m    745\u001b[0m                     \u001b[0;32melse\u001b[0m\u001b[0;34m:\u001b[0m\u001b[0;34m\u001b[0m\u001b[0m\n\u001b[1;32m    746\u001b[0m                         \u001b[0mright_keys\u001b[0m\u001b[0;34m.\u001b[0m\u001b[0mappend\u001b[0m\u001b[0;34m(\u001b[0m\u001b[0mrk\u001b[0m\u001b[0;34m)\u001b[0m\u001b[0;34m\u001b[0m\u001b[0m\n\u001b[0;32m--> 747\u001b[0;31m                     \u001b[0mleft_keys\u001b[0m\u001b[0;34m.\u001b[0m\u001b[0mappend\u001b[0m\u001b[0;34m(\u001b[0m\u001b[0mleft\u001b[0m\u001b[0;34m[\u001b[0m\u001b[0mlk\u001b[0m\u001b[0;34m]\u001b[0m\u001b[0;34m.\u001b[0m\u001b[0m_values\u001b[0m\u001b[0;34m)\u001b[0m\u001b[0;34m\u001b[0m\u001b[0m\n\u001b[0m\u001b[1;32m    748\u001b[0m                     \u001b[0mjoin_names\u001b[0m\u001b[0;34m.\u001b[0m\u001b[0mappend\u001b[0m\u001b[0;34m(\u001b[0m\u001b[0mlk\u001b[0m\u001b[0;34m)\u001b[0m\u001b[0;34m\u001b[0m\u001b[0m\n\u001b[1;32m    749\u001b[0m         \u001b[0;32melif\u001b[0m \u001b[0m_any\u001b[0m\u001b[0;34m(\u001b[0m\u001b[0mself\u001b[0m\u001b[0;34m.\u001b[0m\u001b[0mleft_on\u001b[0m\u001b[0;34m)\u001b[0m\u001b[0;34m:\u001b[0m\u001b[0;34m\u001b[0m\u001b[0m\n",
      "\u001b[0;32m/usr/local/lib/python2.7/dist-packages/pandas/core/frame.pyc\u001b[0m in \u001b[0;36m__getitem__\u001b[0;34m(self, key)\u001b[0m\n\u001b[1;32m   2055\u001b[0m             \u001b[0;32mreturn\u001b[0m \u001b[0mself\u001b[0m\u001b[0;34m.\u001b[0m\u001b[0m_getitem_multilevel\u001b[0m\u001b[0;34m(\u001b[0m\u001b[0mkey\u001b[0m\u001b[0;34m)\u001b[0m\u001b[0;34m\u001b[0m\u001b[0m\n\u001b[1;32m   2056\u001b[0m         \u001b[0;32melse\u001b[0m\u001b[0;34m:\u001b[0m\u001b[0;34m\u001b[0m\u001b[0m\n\u001b[0;32m-> 2057\u001b[0;31m             \u001b[0;32mreturn\u001b[0m \u001b[0mself\u001b[0m\u001b[0;34m.\u001b[0m\u001b[0m_getitem_column\u001b[0m\u001b[0;34m(\u001b[0m\u001b[0mkey\u001b[0m\u001b[0;34m)\u001b[0m\u001b[0;34m\u001b[0m\u001b[0m\n\u001b[0m\u001b[1;32m   2058\u001b[0m \u001b[0;34m\u001b[0m\u001b[0m\n\u001b[1;32m   2059\u001b[0m     \u001b[0;32mdef\u001b[0m \u001b[0m_getitem_column\u001b[0m\u001b[0;34m(\u001b[0m\u001b[0mself\u001b[0m\u001b[0;34m,\u001b[0m \u001b[0mkey\u001b[0m\u001b[0;34m)\u001b[0m\u001b[0;34m:\u001b[0m\u001b[0;34m\u001b[0m\u001b[0m\n",
      "\u001b[0;32m/usr/local/lib/python2.7/dist-packages/pandas/core/frame.pyc\u001b[0m in \u001b[0;36m_getitem_column\u001b[0;34m(self, key)\u001b[0m\n\u001b[1;32m   2062\u001b[0m         \u001b[0;31m# get column\u001b[0m\u001b[0;34m\u001b[0m\u001b[0;34m\u001b[0m\u001b[0m\n\u001b[1;32m   2063\u001b[0m         \u001b[0;32mif\u001b[0m \u001b[0mself\u001b[0m\u001b[0;34m.\u001b[0m\u001b[0mcolumns\u001b[0m\u001b[0;34m.\u001b[0m\u001b[0mis_unique\u001b[0m\u001b[0;34m:\u001b[0m\u001b[0;34m\u001b[0m\u001b[0m\n\u001b[0;32m-> 2064\u001b[0;31m             \u001b[0;32mreturn\u001b[0m \u001b[0mself\u001b[0m\u001b[0;34m.\u001b[0m\u001b[0m_get_item_cache\u001b[0m\u001b[0;34m(\u001b[0m\u001b[0mkey\u001b[0m\u001b[0;34m)\u001b[0m\u001b[0;34m\u001b[0m\u001b[0m\n\u001b[0m\u001b[1;32m   2065\u001b[0m \u001b[0;34m\u001b[0m\u001b[0m\n\u001b[1;32m   2066\u001b[0m         \u001b[0;31m# duplicate columns & possible reduce dimensionality\u001b[0m\u001b[0;34m\u001b[0m\u001b[0;34m\u001b[0m\u001b[0m\n",
      "\u001b[0;32m/usr/local/lib/python2.7/dist-packages/pandas/core/generic.pyc\u001b[0m in \u001b[0;36m_get_item_cache\u001b[0;34m(self, item)\u001b[0m\n\u001b[1;32m   1384\u001b[0m         \u001b[0mres\u001b[0m \u001b[0;34m=\u001b[0m \u001b[0mcache\u001b[0m\u001b[0;34m.\u001b[0m\u001b[0mget\u001b[0m\u001b[0;34m(\u001b[0m\u001b[0mitem\u001b[0m\u001b[0;34m)\u001b[0m\u001b[0;34m\u001b[0m\u001b[0m\n\u001b[1;32m   1385\u001b[0m         \u001b[0;32mif\u001b[0m \u001b[0mres\u001b[0m \u001b[0;32mis\u001b[0m \u001b[0mNone\u001b[0m\u001b[0;34m:\u001b[0m\u001b[0;34m\u001b[0m\u001b[0m\n\u001b[0;32m-> 1386\u001b[0;31m             \u001b[0mvalues\u001b[0m \u001b[0;34m=\u001b[0m \u001b[0mself\u001b[0m\u001b[0;34m.\u001b[0m\u001b[0m_data\u001b[0m\u001b[0;34m.\u001b[0m\u001b[0mget\u001b[0m\u001b[0;34m(\u001b[0m\u001b[0mitem\u001b[0m\u001b[0;34m)\u001b[0m\u001b[0;34m\u001b[0m\u001b[0m\n\u001b[0m\u001b[1;32m   1387\u001b[0m             \u001b[0mres\u001b[0m \u001b[0;34m=\u001b[0m \u001b[0mself\u001b[0m\u001b[0;34m.\u001b[0m\u001b[0m_box_item_values\u001b[0m\u001b[0;34m(\u001b[0m\u001b[0mitem\u001b[0m\u001b[0;34m,\u001b[0m \u001b[0mvalues\u001b[0m\u001b[0;34m)\u001b[0m\u001b[0;34m\u001b[0m\u001b[0m\n\u001b[1;32m   1388\u001b[0m             \u001b[0mcache\u001b[0m\u001b[0;34m[\u001b[0m\u001b[0mitem\u001b[0m\u001b[0;34m]\u001b[0m \u001b[0;34m=\u001b[0m \u001b[0mres\u001b[0m\u001b[0;34m\u001b[0m\u001b[0m\n",
      "\u001b[0;32m/usr/local/lib/python2.7/dist-packages/pandas/core/internals.pyc\u001b[0m in \u001b[0;36mget\u001b[0;34m(self, item, fastpath)\u001b[0m\n\u001b[1;32m   3518\u001b[0m \u001b[0;34m\u001b[0m\u001b[0m\n\u001b[1;32m   3519\u001b[0m             \u001b[0;32mif\u001b[0m \u001b[0;32mnot\u001b[0m \u001b[0misnull\u001b[0m\u001b[0;34m(\u001b[0m\u001b[0mitem\u001b[0m\u001b[0;34m)\u001b[0m\u001b[0;34m:\u001b[0m\u001b[0;34m\u001b[0m\u001b[0m\n\u001b[0;32m-> 3520\u001b[0;31m                 \u001b[0mloc\u001b[0m \u001b[0;34m=\u001b[0m \u001b[0mself\u001b[0m\u001b[0;34m.\u001b[0m\u001b[0mitems\u001b[0m\u001b[0;34m.\u001b[0m\u001b[0mget_loc\u001b[0m\u001b[0;34m(\u001b[0m\u001b[0mitem\u001b[0m\u001b[0;34m)\u001b[0m\u001b[0;34m\u001b[0m\u001b[0m\n\u001b[0m\u001b[1;32m   3521\u001b[0m             \u001b[0;32melse\u001b[0m\u001b[0;34m:\u001b[0m\u001b[0;34m\u001b[0m\u001b[0m\n\u001b[1;32m   3522\u001b[0m                 \u001b[0mindexer\u001b[0m \u001b[0;34m=\u001b[0m \u001b[0mnp\u001b[0m\u001b[0;34m.\u001b[0m\u001b[0marange\u001b[0m\u001b[0;34m(\u001b[0m\u001b[0mlen\u001b[0m\u001b[0;34m(\u001b[0m\u001b[0mself\u001b[0m\u001b[0;34m.\u001b[0m\u001b[0mitems\u001b[0m\u001b[0;34m)\u001b[0m\u001b[0;34m)\u001b[0m\u001b[0;34m[\u001b[0m\u001b[0misnull\u001b[0m\u001b[0;34m(\u001b[0m\u001b[0mself\u001b[0m\u001b[0;34m.\u001b[0m\u001b[0mitems\u001b[0m\u001b[0;34m)\u001b[0m\u001b[0;34m]\u001b[0m\u001b[0;34m\u001b[0m\u001b[0m\n",
      "\u001b[0;32m/usr/local/lib/python2.7/dist-packages/pandas/indexes/base.pyc\u001b[0m in \u001b[0;36mget_loc\u001b[0;34m(self, key, method, tolerance)\u001b[0m\n\u001b[1;32m   2104\u001b[0m                 \u001b[0;32mreturn\u001b[0m \u001b[0mself\u001b[0m\u001b[0;34m.\u001b[0m\u001b[0m_engine\u001b[0m\u001b[0;34m.\u001b[0m\u001b[0mget_loc\u001b[0m\u001b[0;34m(\u001b[0m\u001b[0mkey\u001b[0m\u001b[0;34m)\u001b[0m\u001b[0;34m\u001b[0m\u001b[0m\n\u001b[1;32m   2105\u001b[0m             \u001b[0;32mexcept\u001b[0m \u001b[0mKeyError\u001b[0m\u001b[0;34m:\u001b[0m\u001b[0;34m\u001b[0m\u001b[0m\n\u001b[0;32m-> 2106\u001b[0;31m                 \u001b[0;32mreturn\u001b[0m \u001b[0mself\u001b[0m\u001b[0;34m.\u001b[0m\u001b[0m_engine\u001b[0m\u001b[0;34m.\u001b[0m\u001b[0mget_loc\u001b[0m\u001b[0;34m(\u001b[0m\u001b[0mself\u001b[0m\u001b[0;34m.\u001b[0m\u001b[0m_maybe_cast_indexer\u001b[0m\u001b[0;34m(\u001b[0m\u001b[0mkey\u001b[0m\u001b[0;34m)\u001b[0m\u001b[0;34m)\u001b[0m\u001b[0;34m\u001b[0m\u001b[0m\n\u001b[0m\u001b[1;32m   2107\u001b[0m \u001b[0;34m\u001b[0m\u001b[0m\n\u001b[1;32m   2108\u001b[0m         \u001b[0mindexer\u001b[0m \u001b[0;34m=\u001b[0m \u001b[0mself\u001b[0m\u001b[0;34m.\u001b[0m\u001b[0mget_indexer\u001b[0m\u001b[0;34m(\u001b[0m\u001b[0;34m[\u001b[0m\u001b[0mkey\u001b[0m\u001b[0;34m]\u001b[0m\u001b[0;34m,\u001b[0m \u001b[0mmethod\u001b[0m\u001b[0;34m=\u001b[0m\u001b[0mmethod\u001b[0m\u001b[0;34m,\u001b[0m \u001b[0mtolerance\u001b[0m\u001b[0;34m=\u001b[0m\u001b[0mtolerance\u001b[0m\u001b[0;34m)\u001b[0m\u001b[0;34m\u001b[0m\u001b[0m\n",
      "\u001b[0;32mpandas/index.pyx\u001b[0m in \u001b[0;36mpandas.index.IndexEngine.get_loc (pandas/index.c:4160)\u001b[0;34m()\u001b[0m\n",
      "\u001b[0;32mpandas/index.pyx\u001b[0m in \u001b[0;36mpandas.index.IndexEngine.get_loc (pandas/index.c:4024)\u001b[0;34m()\u001b[0m\n",
      "\u001b[0;32mpandas/src/hashtable_class_helper.pxi\u001b[0m in \u001b[0;36mpandas.hashtable.PyObjectHashTable.get_item (pandas/hashtable.c:13161)\u001b[0;34m()\u001b[0m\n",
      "\u001b[0;32mpandas/src/hashtable_class_helper.pxi\u001b[0m in \u001b[0;36mpandas.hashtable.PyObjectHashTable.get_item (pandas/hashtable.c:13115)\u001b[0;34m()\u001b[0m\n",
      "\u001b[0;31mKeyError\u001b[0m: 'pickup_weekday'"
     ]
    }
   ],
   "source": [
    "train_data = pd.merge(train_data, region_trip_duration, how='left', on = ['pickup_longitude_qcut','pickup_latitude_qcut',\n",
    "                                                     'dropoff_longitude_qcut','dropoff_latitude_qcut'])\n",
    "train_data = pd.merge(train_data, region_trip_duration_m, how='left', on = ['pickup_longitude_qcut','pickup_latitude_qcut',\n",
    "                                                     'dropoff_longitude_qcut','dropoff_latitude_qcut'])\n",
    "train_data = pd.merge(train_data, region_trip_duration_w, how='left', on = ['pickup_longitude_qcut','pickup_latitude_qcut',\n",
    "                                                     'dropoff_longitude_qcut','dropoff_latitude_qcut'])\n",
    "train_data = pd.merge(train_data, region_trip_duration_h, how='left', on = ['pickup_longitude_qcut','pickup_latitude_qcut',\n",
    "                                                     'dropoff_longitude_qcut','dropoff_latitude_qcut'])\n",
    "train_data = pd.merge(train_data, region_trip_duration_wh, how='left', on = ['pickup_weekday','pickup_hour','pickup_longitude_qcut','pickup_latitude_qcut',\n",
    "                                                     'dropoff_longitude_qcut','dropoff_latitude_qcut'])\n"
   ]
  },
  {
   "cell_type": "code",
   "execution_count": null,
   "metadata": {
    "collapsed": true
   },
   "outputs": [],
   "source": [
    "test_data = pd.merge(test_data, region_trip_duration, how='left', on = ['pickup_longitude_qcut','pickup_latitude_qcut',\n",
    "                                                     'dropoff_longitude_qcut','dropoff_latitude_qcut'])\n",
    "test_data = pd.merge(test_data, region_trip_duration_m, how='left', on = ['pickup_longitude_qcut','pickup_latitude_qcut',\n",
    "                                                     'dropoff_longitude_qcut','dropoff_latitude_qcut'])\n",
    "test_data = pd.merge(test_data, region_trip_duration_w, how='left', on = ['pickup_longitude_qcut','pickup_latitude_qcut',\n",
    "                                                     'dropoff_longitude_qcut','dropoff_latitude_qcut'])\n",
    "test_data = pd.merge(test_data, region_trip_duration_h, how='left', on = ['pickup_longitude_qcut','pickup_latitude_qcut',\n",
    "                                                     'dropoff_longitude_qcut','dropoff_latitude_qcut'])\n",
    "test_data = pd.merge(test_data, region_trip_duration_wh, how='left', on = ['pickup_weekday','pickup_hour','pickup_longitude_qcut','pickup_latitude_qcut',\n",
    "                                                     'dropoff_longitude_qcut','dropoff_latitude_qcut'])"
   ]
  },
  {
   "cell_type": "code",
   "execution_count": null,
   "metadata": {
    "collapsed": true
   },
   "outputs": [],
   "source": [
    "# 地理&时间特征\n",
    "# 叫车量\n",
    "# pickup_region_number\n",
    "# pickup_region_number_m\n",
    "# pickup_region_number_w\n",
    "# pickup_region_number_h\n",
    "# pickup_region_number_wh\n",
    "\n",
    "train_data['pickup_number'] = 1 # 后续删除\n",
    "pickup_region_number = train_data.groupby(['pickup_longitude_qcut','pickup_latitude_qcut',\n",
    "                                        'dropoff_longitude_qcut','dropoff_latitude_qcut'],as_index=False)['pickup_number'].sum()\n",
    "pickup_region_number.rename(columns={'pickup_number':'pickup_region_number'},inplace=True)\n",
    "pickup_region_number_m = train_data.groupby(['pickup_month','pickup_longitude_qcut','pickup_latitude_qcut',\n",
    "                                        'dropoff_longitude_qcut','dropoff_latitude_qcut'],as_index=False)['pickup_number'].sum()\n",
    "pickup_region_number_m.rename(columns={'pickup_number':'pickup_region_number_m'},inplace=True)\n",
    "pickup_region_number_w = train_data.groupby(['pickup_weekday','pickup_longitude_qcut','pickup_latitude_qcut',\n",
    "                                          'dropoff_longitude_qcut','dropoff_latitude_qcut'],as_index=False)['pickup_number'].sum()\n",
    "pickup_region_number_w.rename(columns={'pickup_number':'pickup_region_number_w'},inplace=True)\n",
    "pickup_region_number_h = train_data.groupby(['pickup_hour','pickup_longitude_qcut','pickup_latitude_qcut',\n",
    "                                          'dropoff_longitude_qcut','dropoff_latitude_qcut'],as_index=False)['pickup_number'].sum()\n",
    "pickup_region_number_h.rename(columns={'pickup_number':'pickup_region_number_h'},inplace=True)\n",
    "pickup_region_number_wh = train_data.groupby(['pickup_weekday','pickup_hour','pickup_longitude_qcut','pickup_latitude_qcut',\n",
    "                                           'dropoff_longitude_qcut','dropoff_latitude_qcut'],as_index=False)['pickup_number'].sum()\n",
    "pickup_region_number_wh.rename(columns={'pickup_number':'pickup_region_number_wh'},inplace=True)\n",
    "\n",
    "pickup_region_number = sort_groupby(pickup_region_number)\n",
    "pickup_region_number_m = sort_groupby(pickup_region_number_m)\n",
    "pickup_region_number_w = sort_groupby(pickup_region_number_w)\n",
    "pickup_region_number_h = sort_groupby(pickup_region_number_h)\n",
    "pickup_region_number_wh = sort_groupby(pickup_region_number_wh)"
   ]
  },
  {
   "cell_type": "code",
   "execution_count": null,
   "metadata": {
    "collapsed": true
   },
   "outputs": [],
   "source": [
    "train_data = pd.merge(train_data, pickup_region_number, how='left', on = ['pickup_longitude_qcut','pickup_latitude_qcut',\n",
    "                                                     'dropoff_longitude_qcut','dropoff_latitude_qcut'])\n",
    "train_data = pd.merge(train_data, pickup_region_number_m, how='left', on = ['pickup_month','pickup_longitude_qcut','pickup_latitude_qcut',\n",
    "                                                       'dropoff_longitude_qcut','dropoff_latitude_qcut'])\n",
    "train_data = pd.merge(train_data, pickup_region_number_w, how='left', on = ['pickup_weekday','pickup_longitude_qcut','pickup_latitude_qcut',\n",
    "                                                       'dropoff_longitude_qcut','dropoff_latitude_qcut'])\n",
    "train_data = pd.merge(train_data, pickup_region_number_h, how='left', on = ['pickup_hour','pickup_longitude_qcut','pickup_latitude_qcut',\n",
    "                                                       'dropoff_longitude_qcut','dropoff_latitude_qcut'])\n",
    "train_data = pd.merge(train_data, pickup_region_number_wh, how='left', on = ['pickup_weekday','pickup_hour','pickup_longitude_qcut',\n",
    "                                                                   'pickup_latitude_qcut','dropoff_longitude_qcut','dropoff_latitude_qcut'])\n",
    "\n",
    "test_data = pd.merge(test_data, pickup_region_number, how='left', on = ['pickup_longitude_qcut','pickup_latitude_qcut',\n",
    "                                                     'dropoff_longitude_qcut','dropoff_latitude_qcut'])\n",
    "test_data = pd.merge(test_data, pickup_region_number_m, how='left', on = ['pickup_month','pickup_longitude_qcut','pickup_latitude_qcut',\n",
    "                                                       'dropoff_longitude_qcut','dropoff_latitude_qcut'])\n",
    "test_data = pd.merge(test_data, pickup_region_number_w, how='left', on = ['pickup_weekday','pickup_longitude_qcut','pickup_latitude_qcut',\n",
    "                                                       'dropoff_longitude_qcut','dropoff_latitude_qcut'])\n",
    "test_data = pd.merge(test_data, pickup_region_number_h, how='left', on = ['pickup_hour','pickup_longitude_qcut','pickup_latitude_qcut',\n",
    "                                                       'dropoff_longitude_qcut','dropoff_latitude_qcut'])\n",
    "test_data = pd.merge(test_data, pickup_region_number_wh, how='left', on = ['pickup_weekday','pickup_hour','pickup_longitude_qcut',\n",
    "                                                                   'pickup_latitude_qcut','dropoff_longitude_qcut','dropoff_latitude_qcut'])"
   ]
  },
  {
   "cell_type": "code",
   "execution_count": null,
   "metadata": {
    "collapsed": true
   },
   "outputs": [],
   "source": [
    "#地理特征\n",
    "#不同区域的平均距离及排序\n",
    "region_mht_distance = train_data.groupby(['pickup_longitude_qcut','pickup_latitude_qcut',\n",
    "                                                     'dropoff_longitude_qcut','dropoff_latitude_qcut'],as_index=False)['mht_distance'].mean()\n",
    "region_mht_distance.rename(columns={'mht_distance':'region_mht_distance'},inplace=True)\n",
    "region_line_distance = train_data.groupby(['pickup_longitude_qcut','pickup_latitude_qcut',\n",
    "                                                     'dropoff_longitude_qcut','dropoff_latitude_qcut'],as_index=False)['line_distance'].mean()\n",
    "region_line_distance.rename(columns={'line_distance':'region_line_distance'},inplace=True)\n",
    "\n",
    "region_mht_distance = region_mht_distance.sort_values(by='region_mht_distance',ascending=False)\n",
    "region_mht_distance['region_mht_distance_sort'] = range(1,len(region_mht_distance)+1)\n",
    "region_line_distance = region_line_distance.sort_values(by='region_line_distance',ascending=False)\n",
    "region_line_distance['region_line_distance_sort'] = range(1,len(region_line_distance)+1)\n",
    "\n",
    "train_data = pd.merge(train_data, region_mht_distance, how='left', on = ['pickup_longitude_qcut','pickup_latitude_qcut',\n",
    "                                                     'dropoff_longitude_qcut','dropoff_latitude_qcut'])\n",
    "test_data = pd.merge(test_data, region_mht_distance, how='left', on = ['pickup_longitude_qcut','pickup_latitude_qcut',\n",
    "                                                     'dropoff_longitude_qcut','dropoff_latitude_qcut'])\n",
    "train_data = pd.merge(train_data, region_line_distance, how='left', on = ['pickup_longitude_qcut','pickup_latitude_qcut',\n",
    "                                                     'dropoff_longitude_qcut','dropoff_latitude_qcut'])\n",
    "test_data = pd.merge(test_data, region_line_distance, how='left', on = ['pickup_longitude_qcut','pickup_latitude_qcut',\n",
    "                                                     'dropoff_longitude_qcut','dropoff_latitude_qcut'])"
   ]
  },
  {
   "cell_type": "code",
   "execution_count": null,
   "metadata": {
    "collapsed": true
   },
   "outputs": [],
   "source": [
    "#地理特征\n",
    "#经纬度差、运行方向\n",
    "train_data['longitude_delta'] = train_data['dropoff_longitude'] - train_data['pickup_longitude']\n",
    "train_data['latitude_delta'] = train_data['dropoff_latitude'] - train_data['pickup_latitude']\n",
    "train_data['longitude_dct'] = (train_data.longitude_delta > 0)*1\n",
    "train_data['latitude_dct'] = (train_data.latitude_delta > 0)*1\n",
    "\n",
    "test_data['longitude_delta'] = test_data['dropoff_longitude'] - test_data['pickup_longitude']\n",
    "test_data['latitude_delta'] = test_data['dropoff_latitude'] - test_data['pickup_latitude']\n",
    "test_data['longitude_dct'] = (test_data.longitude_delta > 0)*1\n",
    "test_data['latitude_dct'] = (test_data.latitude_delta > 0)*1"
   ]
  },
  {
   "cell_type": "code",
   "execution_count": null,
   "metadata": {
    "collapsed": true
   },
   "outputs": [],
   "source": [
    "#速度特征\n",
    "train_data['mht_speed'] = 1000 * train_data['mht_distance'] / train_data['trip_duration']\n",
    "train_data['line_speed'] = 1000 * train_data['line_distance'] / train_data['trip_duration']"
   ]
  },
  {
   "cell_type": "code",
   "execution_count": 4,
   "metadata": {
    "collapsed": false
   },
   "outputs": [
    {
     "ename": "NameError",
     "evalue": "name 'train_data' is not defined",
     "output_type": "error",
     "traceback": [
      "\u001b[0;31m---------------------------------------------------------------------------\u001b[0m",
      "\u001b[0;31mNameError\u001b[0m                                 Traceback (most recent call last)",
      "\u001b[0;32m<ipython-input-4-15882fa39ddd>\u001b[0m in \u001b[0;36m<module>\u001b[0;34m()\u001b[0m\n\u001b[1;32m      2\u001b[0m \u001b[0;31m#基于地理的速度、基于地理和时间的速度\u001b[0m\u001b[0;34m\u001b[0m\u001b[0;34m\u001b[0m\u001b[0m\n\u001b[1;32m      3\u001b[0m \u001b[0;31m#直线速度、曼哈特速度\u001b[0m\u001b[0;34m\u001b[0m\u001b[0;34m\u001b[0m\u001b[0m\n\u001b[0;32m----> 4\u001b[0;31m mht_region_speed = train_data.groupby(['pickup_longitude_qcut','pickup_latitude_qcut',\n\u001b[0m\u001b[1;32m      5\u001b[0m                                                      'dropoff_longitude_qcut','dropoff_latitude_qcut'],as_index=False)['mht_speed'].mean()\n\u001b[1;32m      6\u001b[0m \u001b[0mmht_region_speed\u001b[0m\u001b[0;34m.\u001b[0m\u001b[0mrename\u001b[0m\u001b[0;34m(\u001b[0m\u001b[0mcolumns\u001b[0m\u001b[0;34m=\u001b[0m\u001b[0;34m{\u001b[0m\u001b[0;34m'mht_speed'\u001b[0m\u001b[0;34m:\u001b[0m\u001b[0;34m'mht_region_speed'\u001b[0m\u001b[0;34m}\u001b[0m\u001b[0;34m,\u001b[0m\u001b[0minplace\u001b[0m\u001b[0;34m=\u001b[0m\u001b[0mTrue\u001b[0m\u001b[0;34m)\u001b[0m\u001b[0;34m\u001b[0m\u001b[0m\n",
      "\u001b[0;31mNameError\u001b[0m: name 'train_data' is not defined"
     ]
    }
   ],
   "source": [
    "#速度特征\n",
    "#基于地理的速度、基于地理和时间的速度\n",
    "#直线速度、曼哈特速度\n",
    "mht_region_speed = train_data.groupby(['pickup_longitude_qcut','pickup_latitude_qcut',\n",
    "                                                     'dropoff_longitude_qcut','dropoff_latitude_qcut'],as_index=False)['mht_speed'].mean()\n",
    "mht_region_speed.rename(columns={'mht_speed':'mht_region_speed'},inplace=True)\n",
    "mht_region_speed_m = train_data.groupby(['pickup_month','pickup_longitude_qcut','pickup_latitude_qcut',\n",
    "                                                       'dropoff_longitude_qcut','dropoff_latitude_qcut'],as_index=False)['mht_speed'].mean()\n",
    "mht_region_speed_m.rename(columns={'mht_speed':'mht_region_speed_m'},inplace=True)\n",
    "mht_region_speed_w = train_data.groupby(['pickup_weekday','pickup_longitude_qcut','pickup_latitude_qcut',\n",
    "                                                       'dropoff_longitude_qcut','dropoff_latitude_qcut'],as_index=False)['mht_speed'].mean()\n",
    "mht_region_speed_w.rename(columns={'mht_speed':'mht_region_speed_w'},inplace=True)\n",
    "mht_region_speed_h = train_data.groupby(['pickup_hour','pickup_longitude_qcut','pickup_latitude_qcut',\n",
    "                                                       'dropoff_longitude_qcut','dropoff_latitude_qcut'],as_index=False)['mht_speed'].mean()\n",
    "mht_region_speed_h.rename(columns={'mht_speed':'mht_region_speed_h'},inplace=True)\n",
    "mht_region_speed_wh = train_data.groupby(['pickup_weekday','pickup_hour','pickup_longitude_qcut','pickup_latitude_qcut',\n",
    "                                                       'dropoff_longitude_qcut','dropoff_latitude_qcut'],as_index=False)['mht_speed'].mean()\n",
    "mht_region_speed_wh.rename(columns={'mht_speed':'mht_region_speed_wh'},inplace=True)\n",
    "\n",
    "line_region_speed = train_data.groupby(['pickup_longitude_qcut','pickup_latitude_qcut',\n",
    "                                                      'dropoff_longitude_qcut','dropoff_latitude_qcut'],as_index=False)['line_speed'].mean()\n",
    "line_region_speed.rename(columns={'line_speed':'line_region_speed'},inplace=True)\n",
    "line_region_speed_m = train_data.groupby(['pickup_month','pickup_longitude_qcut','pickup_latitude_qcut',\n",
    "                                                       'dropoff_longitude_qcut','dropoff_latitude_qcut'],as_index=False)['line_speed'].mean()\n",
    "line_region_speed_m.rename(columns={'line_speed':'line_region_speed_m'},inplace=True)\n",
    "line_region_speed_w = train_data.groupby(['pickup_weekday','pickup_longitude_qcut','pickup_latitude_qcut',\n",
    "                                                       'dropoff_longitude_qcut','dropoff_latitude_qcut'],as_index=False)['line_speed'].mean()\n",
    "line_region_speed_w.rename(columns={'line_speed':'line_region_speed_w'},inplace=True)\n",
    "line_region_speed_h = train_data.groupby(['pickup_hour','pickup_longitude_qcut','pickup_latitude_qcut',\n",
    "                                                       'dropoff_longitude_qcut','dropoff_latitude_qcut'],as_index=False)['line_speed'].mean()\n",
    "line_region_speed_h.rename(columns={'line_speed':'line_region_speed_h'},inplace=True)\n",
    "line_region_speed_wh = train_data.groupby(['pickup_weekday','pickup_hour','pickup_longitude_qcut','pickup_latitude_qcut',\n",
    "                                                       'dropoff_longitude_qcut','dropoff_latitude_qcut'],as_index=False)['line_speed'].mean()\n",
    "line_region_speed_wh.rename(columns={'line_speed':'line_region_speed_wh'},inplace=True)\n",
    "\n",
    "#排序\n",
    "mht_region_speed = sort_groupby(mht_region_speed)\n",
    "mht_region_speed_m = sort_groupby(mht_region_speed_m)\n",
    "mht_region_speed_w = sort_groupby(mht_region_speed_w)\n",
    "mht_region_speed_h = sort_groupby(mht_region_speed_h)\n",
    "mht_region_speed_wh = sort_groupby(mht_region_speed_wh)\n",
    "line_region_speed = sort_groupby(line_region_speed)\n",
    "line_region_speed_m = sort_groupby(line_region_speed_m)\n",
    "line_region_speed_w = sort_groupby(line_region_speed_w)\n",
    "line_region_speed_h = sort_groupby(line_region_speed_h)\n",
    "line_region_speed_wh = sort_groupby(line_region_speed_wh)"
   ]
  },
  {
   "cell_type": "code",
   "execution_count": null,
   "metadata": {
    "collapsed": true
   },
   "outputs": [],
   "source": [
    "train_data = pd.merge(train_data, mht_region_speed, how='left', on = ['pickup_longitude_qcut','pickup_latitude_qcut',\n",
    "                                                     'dropoff_longitude_qcut','dropoff_latitude_qcut'])\n",
    "train_data = pd.merge(train_data, mht_region_speed_m, how='left', on = ['pickup_month','pickup_longitude_qcut','pickup_latitude_qcut',\n",
    "                                                       'dropoff_longitude_qcut','dropoff_latitude_qcut'])\n",
    "train_data = pd.merge(train_data, mht_region_speed_w, how='left', on = ['pickup_weekday','pickup_longitude_qcut','pickup_latitude_qcut',\n",
    "                                                       'dropoff_longitude_qcut','dropoff_latitude_qcut'])\n",
    "train_data = pd.merge(train_data, mht_region_speed_h, how='left', on = ['pickup_hour','pickup_longitude_qcut','pickup_latitude_qcut',\n",
    "                                                       'dropoff_longitude_qcut','dropoff_latitude_qcut'])\n",
    "train_data = pd.merge(train_data, mht_region_speed_wh, how='left', on = ['pickup_weekday','pickup_hour','pickup_longitude_qcut',\n",
    "                                                                   'pickup_latitude_qcut','dropoff_longitude_qcut','dropoff_latitude_qcut'])\n",
    "\n",
    "train_data = pd.merge(train_data, line_region_speed, how='left', on = ['pickup_longitude_qcut','pickup_latitude_qcut',\n",
    "                                                     'dropoff_longitude_qcut','dropoff_latitude_qcut'])\n",
    "train_data = pd.merge(train_data, line_region_speed_m, how='left', on = ['pickup_month','pickup_longitude_qcut','pickup_latitude_qcut',\n",
    "                                                       'dropoff_longitude_qcut','dropoff_latitude_qcut'])\n",
    "train_data = pd.merge(train_data, line_region_speed_w, how='left', on = ['pickup_weekday','pickup_longitude_qcut','pickup_latitude_qcut',\n",
    "                                                       'dropoff_longitude_qcut','dropoff_latitude_qcut'])\n",
    "train_data = pd.merge(train_data, line_region_speed_h, how='left', on = ['pickup_hour','pickup_longitude_qcut','pickup_latitude_qcut',\n",
    "                                                       'dropoff_longitude_qcut','dropoff_latitude_qcut'])\n",
    "train_data = pd.merge(train_data, line_region_speed_wh, how='left', on = ['pickup_weekday','pickup_hour','pickup_longitude_qcut',\n",
    "                                                                   'pickup_latitude_qcut','dropoff_longitude_qcut','dropoff_latitude_qcut'])"
   ]
  },
  {
   "cell_type": "code",
   "execution_count": null,
   "metadata": {
    "collapsed": true
   },
   "outputs": [],
   "source": [
    "test_data = pd.merge(test_data, mht_region_speed, how='left', on = ['pickup_longitude_qcut','pickup_latitude_qcut',\n",
    "                                                     'dropoff_longitude_qcut','dropoff_latitude_qcut'])\n",
    "test_data = pd.merge(test_data, mht_region_speed_m, how='left', on = ['pickup_month','pickup_longitude_qcut','pickup_latitude_qcut',\n",
    "                                                       'dropoff_longitude_qcut','dropoff_latitude_qcut'])\n",
    "test_data = pd.merge(test_data, mht_region_speed_w, how='left', on = ['pickup_weekday','pickup_longitude_qcut','pickup_latitude_qcut',\n",
    "                                                       'dropoff_longitude_qcut','dropoff_latitude_qcut'])\n",
    "test_data = pd.merge(test_data, mht_region_speed_h, how='left', on = ['pickup_hour','pickup_longitude_qcut','pickup_latitude_qcut',\n",
    "                                                       'dropoff_longitude_qcut','dropoff_latitude_qcut'])\n",
    "test_data = pd.merge(test_data, mht_region_speed_wh, how='left', on = ['pickup_weekday','pickup_hour','pickup_longitude_qcut',\n",
    "                                                                   'pickup_latitude_qcut','dropoff_longitude_qcut','dropoff_latitude_qcut'])\n",
    "\n",
    "test_data = pd.merge(test_data, line_region_speed, how='left', on = ['pickup_longitude_qcut','pickup_latitude_qcut',\n",
    "                                                     'dropoff_longitude_qcut','dropoff_latitude_qcut'])\n",
    "test_data = pd.merge(test_data, line_region_speed_m, how='left', on = ['pickup_month','pickup_longitude_qcut','pickup_latitude_qcut',\n",
    "                                                       'dropoff_longitude_qcut','dropoff_latitude_qcut'])\n",
    "test_data = pd.merge(test_data, line_region_speed_w, how='left', on = ['pickup_weekday','pickup_longitude_qcut','pickup_latitude_qcut',\n",
    "                                                       'dropoff_longitude_qcut','dropoff_latitude_qcut'])\n",
    "test_data = pd.merge(test_data, line_region_speed_h, how='left', on = ['pickup_hour','pickup_longitude_qcut','pickup_latitude_qcut',\n",
    "                                                       'dropoff_longitude_qcut','dropoff_latitude_qcut'])\n",
    "test_data = pd.merge(test_data, line_region_speed_wh, how='left', on = ['pickup_weekday','pickup_hour','pickup_longitude_qcut',\n",
    "                                                                   'pickup_latitude_qcut','dropoff_longitude_qcut','dropoff_latitude_qcut'])"
   ]
  },
  {
   "cell_type": "code",
   "execution_count": null,
   "metadata": {
    "collapsed": true
   },
   "outputs": [],
   "source": [
    "#速度特征\n",
    "#基于时间的速度\n",
    "mht_speed_m = train_data.groupby(['pickup_month'],as_index=False)['mht_speed'].mean()\n",
    "mht_speed_m.rename(columns={'mht_speed':'mht_speed_m'},inplace=True)\n",
    "mht_speed_w = train_data.groupby(['pickup_weekday'],as_index=False)['mht_speed'].mean()\n",
    "mht_speed_w.rename(columns={'mht_speed':'mht_speed_w'},inplace=True)\n",
    "mht_speed_h = train_data.groupby(['pickup_hour'],as_index=False)['mht_speed'].mean()\n",
    "mht_speed_h.rename(columns={'mht_speed':'mht_speed_h'},inplace=True)\n",
    "mht_speed_wh = train_data.groupby(['pickup_weekday','pickup_hour'],as_index=False)['mht_speed'].mean()\n",
    "mht_speed_wh.rename(columns={'mht_speed':'mht_speed_wh'},inplace=True)\n",
    "\n",
    "line_speed_m = train_data.groupby(['pickup_month'],as_index=False)['line_speed'].mean()\n",
    "line_speed_m.rename(columns={'line_speed':'line_speed_m'},inplace=True)\n",
    "line_speed_w = train_data.groupby(['pickup_weekday'],as_index=False)['line_speed'].mean()\n",
    "line_speed_w.rename(columns={'line_speed':'line_speed_w'},inplace=True)\n",
    "line_speed_h = train_data.groupby(['pickup_hour'],as_index=False)['line_speed'].mean()\n",
    "line_speed_h.rename(columns={'line_speed':'line_speed_h'},inplace=True)\n",
    "line_speed_wh = train_data.groupby(['pickup_weekday','pickup_hour'],as_index=False)['line_speed'].mean()\n",
    "line_speed_wh.rename(columns={'line_speed':'line_speed_wh'},inplace=True)\n",
    "\n",
    "#排序\n",
    "mht_speed_m = sort_groupby(mht_speed_m)\n",
    "mht_speed_w = sort_groupby(mht_speed_w)\n",
    "mht_speed_h = sort_groupby(mht_speed_h)\n",
    "mht_speed_wh = sort_groupby(mht_speed_wh)\n",
    "line_speed_m = sort_groupby(line_speed_m)\n",
    "line_speed_w = sort_groupby(line_speed_w)\n",
    "line_speed_h = sort_groupby(line_speed_h)\n",
    "line_speed_wh = sort_groupby(line_speed_wh)"
   ]
  },
  {
   "cell_type": "code",
   "execution_count": null,
   "metadata": {
    "collapsed": true
   },
   "outputs": [],
   "source": [
    "train_data = pd.merge(train_data, mht_speed_m, how='left', on = ['pickup_month'])\n",
    "train_data = pd.merge(train_data, mht_speed_w, how='left', on = ['pickup_weekday'])\n",
    "train_data = pd.merge(train_data, mht_speed_h, how='left', on = ['pickup_hour'])\n",
    "train_data = pd.merge(train_data, mht_speed_wh, how='left', on = ['pickup_weekday','pickup_hour'])\n",
    "\n",
    "train_data = pd.merge(train_data, line_speed_m, how='left', on = ['pickup_month'])\n",
    "train_data = pd.merge(train_data, line_speed_w, how='left', on = ['pickup_weekday'])\n",
    "train_data = pd.merge(train_data, line_speed_h, how='left', on = ['pickup_hour'])\n",
    "train_data = pd.merge(train_data, line_speed_wh, how='left', on = ['pickup_weekday','pickup_hour'])"
   ]
  },
  {
   "cell_type": "code",
   "execution_count": null,
   "metadata": {
    "collapsed": true
   },
   "outputs": [],
   "source": [
    "test_data = pd.merge(test_data, mht_speed_m, how='left', on = ['pickup_month'])\n",
    "test_data = pd.merge(test_data, mht_speed_w, how='left', on = ['pickup_weekday'])\n",
    "test_data = pd.merge(test_data, mht_speed_h, how='left', on = ['pickup_hour'])\n",
    "test_data = pd.merge(test_data, mht_speed_wh, how='left', on = ['pickup_weekday','pickup_hour'])\n",
    "\n",
    "test_data = pd.merge(test_data, line_speed_m, how='left', on = ['pickup_month'])\n",
    "test_data = pd.merge(test_data, line_speed_w, how='left', on = ['pickup_weekday'])\n",
    "test_data = pd.merge(test_data, line_speed_h, how='left', on = ['pickup_hour'])\n",
    "test_data = pd.merge(test_data, line_speed_wh, how='left', on = ['pickup_weekday','pickup_hour'])"
   ]
  },
  {
   "cell_type": "code",
   "execution_count": null,
   "metadata": {
    "collapsed": true
   },
   "outputs": [],
   "source": [
    "# get_dummies 月、日、时、区域\n",
    "train_data = pd.get_dummies(train_data,prefix=['pickup_month','pickup_weekday','pickup_hour','pickup_longitude_qcut','pickup_latitude_qcut',\n",
    "                                          'dropoff_longitude_qcut','dropoff_latitude_qcut'],\n",
    "                          columns=['pickup_month','pickup_weekday','pickup_hour','pickup_longitude_qcut','pickup_latitude_qcut',\n",
    "                                   'dropoff_longitude_qcut','dropoff_latitude_qcut'])\n",
    "\n",
    "test_data = pd.get_dummies(test_data,prefix=['pickup_month','pickup_weekday','pickup_hour','pickup_longitude_qcut','pickup_latitude_qcut',\n",
    "                                          'dropoff_longitude_qcut','dropoff_latitude_qcut'],\n",
    "                          columns=['pickup_month','pickup_weekday','pickup_hour','pickup_longitude_qcut','pickup_latitude_qcut',\n",
    "                                   'dropoff_longitude_qcut','dropoff_latitude_qcut'])"
   ]
  },
  {
   "cell_type": "code",
   "execution_count": null,
   "metadata": {
    "collapsed": true
   },
   "outputs": [],
   "source": [
    "del train_data['dropoff_datetime']\n",
    "del train_data['mht_speed']\n",
    "del train_data['line_speed']\n",
    "del train_data['pickup_number']\n",
    "del train_data['id']\n",
    "del train_data['pickup_datetime']\n",
    "del train_data['pickup_longitude']\n",
    "del train_data['pickup_latitude']\n",
    "del train_data['dropoff_longitude']\n",
    "del train_data['dropoff_latitude']\n",
    "del test_data['id']\n",
    "del test_data['pickup_datetime']\n",
    "del test_data['pickup_longitude']\n",
    "del test_data['pickup_latitude']\n",
    "del test_data['dropoff_longitude']\n",
    "del test_data['dropoff_latitude']"
   ]
  },
  {
   "cell_type": "code",
   "execution_count": 11,
   "metadata": {
    "collapsed": true
   },
   "outputs": [],
   "source": [
    "train_data.to_csv('train_data_lgc_1.csv',index=False)"
   ]
  },
  {
   "cell_type": "code",
   "execution_count": 2,
   "metadata": {
    "collapsed": true
   },
   "outputs": [],
   "source": [
    "train_data = pd.read_csv('train_data_lgc_1.csv')"
   ]
  }
 ],
 "metadata": {
  "kernelspec": {
   "display_name": "Python 2",
   "language": "python",
   "name": "python2"
  },
  "language_info": {
   "codemirror_mode": {
    "name": "ipython",
    "version": 2
   },
   "file_extension": ".py",
   "mimetype": "text/x-python",
   "name": "python",
   "nbconvert_exporter": "python",
   "pygments_lexer": "ipython2",
   "version": "2.7.12"
  }
 },
 "nbformat": 4,
 "nbformat_minor": 1
}
